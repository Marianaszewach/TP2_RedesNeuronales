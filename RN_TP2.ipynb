{
  "nbformat": 4,
  "nbformat_minor": 0,
  "metadata": {
    "colab": {
      "name": "RN-TP2.ipynb",
      "provenance": [],
      "collapsed_sections": []
    },
    "kernelspec": {
      "display_name": "Python 3",
      "name": "python3"
    },
    "language_info": {
      "name": "python"
    }
  },
  "cells": [
    {
      "cell_type": "markdown",
      "metadata": {
        "id": "tcKlysHEoGSd"
      },
      "source": [
        "# **Trabajo Práctico Nº2**\n",
        "\n",
        "Amalia Oxandaberro - Mariana Szewach - Camila Cirignoli\n",
        "\n",
        "En el siguiente trabajo se utiliza el archivo rossman.ipyn como modelo de trabajo."
      ]
    },
    {
      "cell_type": "markdown",
      "metadata": {
        "id": "kRXwCPxrmJNT"
      },
      "source": [
        "#Librerías"
      ]
    },
    {
      "cell_type": "markdown",
      "metadata": {
        "id": "gYB78bVZo_YE"
      },
      "source": [
        "En primer lugar, se cargan todas las librerias a utilizar en el siguiente trabajo"
      ]
    },
    {
      "cell_type": "code",
      "metadata": {
        "colab": {
          "base_uri": "https://localhost:8080/"
        },
        "id": "KoQ9sf-fl_CL",
        "outputId": "4ce10818-60e4-46e7-8d7b-7900d6ed709d"
      },
      "source": [
        "import numpy as np # linear algebra\n",
        "import pandas as pd # data processing, CSV file I/O (e.g. pd.read_csv)\n",
        "import matplotlib.pyplot as plt\n",
        "from sklearn.feature_extraction.text import CountVectorizer, TfidfVectorizer\n",
        "from string import punctuation\n",
        "from termcolor import colored\n",
        "from collections import Counter\n",
        "from tensorflow.keras.layers import Dense\n",
        "from tensorflow.keras.models import Sequential\n",
        "from tensorflow.keras.optimizers import SGD\n",
        "from tensorflow.keras.optimizers import Adam\n",
        "from tensorflow.keras.optimizers import Nadam\n",
        "from tensorflow.keras.callbacks import EarlyStopping\n",
        "from sklearn.preprocessing import OneHotEncoder\n",
        "\n",
        "from sklearn.metrics import confusion_matrix\n",
        "from sklearn.metrics import plot_confusion_matrix\n",
        "from sklearn.metrics import classification_report\n",
        "from sklearn.metrics import precision_score\n",
        "from sklearn.metrics import recall_score\n",
        "from sklearn.metrics import accuracy_score\n",
        "from sklearn.metrics import f1_score\n",
        "import datetime\n",
        "#from isoweek import Week\n",
        "!pip install isoweek\n",
        "from isoweek import Week\n",
        "\n",
        "import math, keras, datetime, pandas as pd, numpy as np, keras.backend as K\n",
        "import matplotlib.pyplot as plt, operator, random, pickle\n",
        "!pip install utils2\n",
        "from utils2 import *\n",
        "!pip install pandas_summary\n",
        "from pandas_summary import DataFrameSummary\n",
        "from IPython.display import SVG\n",
        "from numpy import mean, sqrt, square, arange"
      ],
      "execution_count": 1,
      "outputs": [
        {
          "output_type": "stream",
          "name": "stdout",
          "text": [
            "Collecting isoweek\n",
            "  Downloading isoweek-1.3.3-py2.py3-none-any.whl (7.1 kB)\n",
            "Installing collected packages: isoweek\n",
            "Successfully installed isoweek-1.3.3\n",
            "Collecting utils2\n",
            "  Downloading utils2-0.1.2.tar.gz (3.2 kB)\n",
            "Requirement already satisfied: six in /usr/local/lib/python3.7/dist-packages (from utils2) (1.15.0)\n",
            "Requirement already satisfied: python-dateutil in /usr/local/lib/python3.7/dist-packages (from utils2) (2.8.2)\n",
            "Requirement already satisfied: requests in /usr/local/lib/python3.7/dist-packages (from utils2) (2.23.0)\n",
            "Requirement already satisfied: idna<3,>=2.5 in /usr/local/lib/python3.7/dist-packages (from requests->utils2) (2.10)\n",
            "Requirement already satisfied: certifi>=2017.4.17 in /usr/local/lib/python3.7/dist-packages (from requests->utils2) (2021.5.30)\n",
            "Requirement already satisfied: chardet<4,>=3.0.2 in /usr/local/lib/python3.7/dist-packages (from requests->utils2) (3.0.4)\n",
            "Requirement already satisfied: urllib3!=1.25.0,!=1.25.1,<1.26,>=1.21.1 in /usr/local/lib/python3.7/dist-packages (from requests->utils2) (1.24.3)\n",
            "Building wheels for collected packages: utils2\n",
            "  Building wheel for utils2 (setup.py) ... \u001b[?25l\u001b[?25hdone\n",
            "  Created wheel for utils2: filename=utils2-0.1.2-py2.py3-none-any.whl size=5240 sha256=c2133f3ebbe29ea9600efd7cc2ce1bdb169df625b640b9d509c67cece6ddaaf3\n",
            "  Stored in directory: /root/.cache/pip/wheels/4a/e7/dd/07ae855e161aa42be8bdd0144343780e418b3563b0c7d742fb\n",
            "Successfully built utils2\n",
            "Installing collected packages: utils2\n",
            "Successfully installed utils2-0.1.2\n",
            "Collecting pandas_summary\n",
            "  Downloading pandas_summary-0.0.7-py2.py3-none-any.whl (5.2 kB)\n",
            "Requirement already satisfied: pandas in /usr/local/lib/python3.7/dist-packages (from pandas_summary) (1.1.5)\n",
            "Requirement already satisfied: numpy in /usr/local/lib/python3.7/dist-packages (from pandas_summary) (1.19.5)\n",
            "Requirement already satisfied: pytz>=2017.2 in /usr/local/lib/python3.7/dist-packages (from pandas->pandas_summary) (2018.9)\n",
            "Requirement already satisfied: python-dateutil>=2.7.3 in /usr/local/lib/python3.7/dist-packages (from pandas->pandas_summary) (2.8.2)\n",
            "Requirement already satisfied: six>=1.5 in /usr/local/lib/python3.7/dist-packages (from python-dateutil>=2.7.3->pandas->pandas_summary) (1.15.0)\n",
            "Installing collected packages: pandas-summary\n",
            "Successfully installed pandas-summary-0.0.7\n"
          ]
        }
      ]
    },
    {
      "cell_type": "markdown",
      "metadata": {
        "id": "vwIKno82g-1k"
      },
      "source": [
        "#Datos de Kaggle"
      ]
    },
    {
      "cell_type": "markdown",
      "metadata": {
        "id": "sZsYlCWhox7X"
      },
      "source": [
        "Luego se prosigue cargando los datos desde kaggle"
      ]
    },
    {
      "cell_type": "code",
      "metadata": {
        "colab": {
          "resources": {
            "http://localhost:8080/nbextensions/google.colab/files.js": {
              "data": "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",
              "ok": true,
              "headers": [
                [
                  "content-type",
                  "application/javascript"
                ]
              ],
              "status": 200,
              "status_text": ""
            }
          },
          "base_uri": "https://localhost:8080/",
          "height": 89
        },
        "id": "4x3ianoBlJnA",
        "outputId": "d916987c-09db-4b3f-b28d-8b14d3c817b9"
      },
      "source": [
        "!pip install -U -q kaggle\n",
        "!mkdir -p ~/.kaggle\n",
        "from google.colab import files\n",
        "files.upload()"
      ],
      "execution_count": 2,
      "outputs": [
        {
          "output_type": "display_data",
          "data": {
            "text/html": [
              "\n",
              "     <input type=\"file\" id=\"files-5ff460db-7be2-45df-bcb7-ba06a95d9df5\" name=\"files[]\" multiple disabled\n",
              "        style=\"border:none\" />\n",
              "     <output id=\"result-5ff460db-7be2-45df-bcb7-ba06a95d9df5\">\n",
              "      Upload widget is only available when the cell has been executed in the\n",
              "      current browser session. Please rerun this cell to enable.\n",
              "      </output>\n",
              "      <script src=\"/nbextensions/google.colab/files.js\"></script> "
            ],
            "text/plain": [
              "<IPython.core.display.HTML object>"
            ]
          },
          "metadata": {}
        },
        {
          "output_type": "stream",
          "name": "stdout",
          "text": [
            "Saving kaggle.json to kaggle.json\n"
          ]
        },
        {
          "output_type": "execute_result",
          "data": {
            "text/plain": [
              "{'kaggle.json': b'{\"username\":\"amaliaoxandaberro\",\"key\":\"dc3caded742346409c8426f0109c18a1\"}'}"
            ]
          },
          "metadata": {},
          "execution_count": 2
        }
      ]
    },
    {
      "cell_type": "code",
      "metadata": {
        "colab": {
          "base_uri": "https://localhost:8080/"
        },
        "id": "4lnigGTnnML5",
        "outputId": "74381098-5fef-4e9e-b74e-139c7c0de89d"
      },
      "source": [
        "!cp kaggle.json ~/.kaggle/\n",
        "!kaggle competitions download -c rossmann-store-sales"
      ],
      "execution_count": 3,
      "outputs": [
        {
          "output_type": "stream",
          "name": "stdout",
          "text": [
            "Warning: Your Kaggle API key is readable by other users on this system! To fix this, you can run 'chmod 600 /root/.kaggle/kaggle.json'\n",
            "Warning: Looks like you're using an outdated API Version, please consider updating (server 1.5.12 / client 1.5.4)\n",
            "Downloading test.csv.zip to /content\n",
            "  0% 0.00/192k [00:00<?, ?B/s]\n",
            "100% 192k/192k [00:00<00:00, 6.37MB/s]\n",
            "Downloading train.csv.zip to /content\n",
            " 75% 5.00M/6.71M [00:00<00:00, 37.0MB/s]\n",
            "100% 6.71M/6.71M [00:00<00:00, 42.8MB/s]\n",
            "Downloading sample_submission.csv to /content\n",
            "  0% 0.00/310k [00:00<?, ?B/s]\n",
            "100% 310k/310k [00:00<00:00, 102MB/s]\n",
            "Downloading store.csv to /content\n",
            "  0% 0.00/44.0k [00:00<?, ?B/s]\n",
            "100% 44.0k/44.0k [00:00<00:00, 46.1MB/s]\n"
          ]
        }
      ]
    },
    {
      "cell_type": "code",
      "metadata": {
        "colab": {
          "base_uri": "https://localhost:8080/"
        },
        "id": "RPyyvS78n_2D",
        "outputId": "f63e85d2-4a22-4bc8-8aae-1400b5467edc"
      },
      "source": [
        "!unzip train.csv.zip\n",
        "!unzip test.csv.zip"
      ],
      "execution_count": 4,
      "outputs": [
        {
          "output_type": "stream",
          "name": "stdout",
          "text": [
            "Archive:  train.csv.zip\n",
            "  inflating: train.csv               \n",
            "Archive:  test.csv.zip\n",
            "  inflating: test.csv                \n"
          ]
        }
      ]
    },
    {
      "cell_type": "markdown",
      "metadata": {
        "id": "pf8dgd1RpbjA"
      },
      "source": [
        "Además de los datos de la competencia, se buscaron datasets que aportaran información complementaria, siendo estos:\n",
        "\n",
        "* googletrend: datos de las tendencias para cada semana y estado obtenidas con la herramienta de google\n",
        "* state_names: tabla conteniendo los nombres de los estados junto con sus abreviaciones\n",
        "* store_states: datos de los nombres de los estados en los que se encuentra cada store\n",
        "* weather: datos del clima para cada estado"
      ]
    },
    {
      "cell_type": "markdown",
      "metadata": {
        "id": "pJCnCVAN2Ca6"
      },
      "source": [
        "Previo a correr esta celda, se deben cargar los archivos adjuntos en el github al entorno de ejecución utilizado. Estos son: \n",
        "\n",
        "* googletrend.csv \n",
        "* state_names.csv\n",
        "* store_states.csv\n",
        "* weather.csv\n"
      ]
    },
    {
      "cell_type": "code",
      "metadata": {
        "colab": {
          "base_uri": "https://localhost:8080/"
        },
        "id": "UB4gCqwEoqLh",
        "outputId": "87956d20-54b8-49c5-ece8-8de04db91bea"
      },
      "source": [
        "train = pd.read_csv(\"/content/train.csv\")\n",
        "test = pd.read_csv(\"/content/test.csv\")\n",
        "store = pd.read_csv(\"/content/store.csv\")\n",
        "\n",
        "googletrend = pd.read_csv(\"/content/googletrend.csv\")\n",
        "state_names = pd.read_csv(\"/content/state_names.csv\")\n",
        "store_states = pd.read_csv(\"/content/store_states.csv\")\n",
        "weather = pd.read_csv(\"/content/weather.csv\")\n"
      ],
      "execution_count": 268,
      "outputs": [
        {
          "output_type": "stream",
          "name": "stderr",
          "text": [
            "/usr/local/lib/python3.7/dist-packages/IPython/core/interactiveshell.py:2718: DtypeWarning: Columns (7) have mixed types.Specify dtype option on import or set low_memory=False.\n",
            "  interactivity=interactivity, compiler=compiler, result=result)\n"
          ]
        }
      ]
    },
    {
      "cell_type": "markdown",
      "metadata": {
        "id": "-Qa5v4fitZLP"
      },
      "source": [
        "Los campos provistos por la competencia son los siguientes:\n",
        "\n",
        "**Customers**: número de clientes en un cierto día\n",
        "\n",
        "**Open**: indicador de si la tienda se encontraba abierta: 0 = cerrada, 1= abierta\n",
        "\n",
        "**StateHoliday**: indica un feriado nacional. Normalmente las tiendas se encuentran cerradas en un feriado nacional. a = feriado público, b= feriado por pascuas, c= feriado por navidad, 0 = Ninguno\n",
        "\n",
        "**School Holiday**: indica si hay feriado escolar, brindando información de si la tienda fue afectada por el cierre de escuelas públicas.\n",
        "\n",
        "**StoreType:** distingue entre 4 modelos diferentes: a, b, c,d.\n",
        "\n",
        "**Assortment:** describe un nivel de variedad de los productos que se venden en determinada tienda: a = basico, b = extra, c = extended\n",
        "\n",
        "**CompetitionDistance:** distancia medida en metros de la tienda competidora más cercana.\n",
        "\n",
        "**CompetitionOpenSince[Month/Year]:** indica el mes y año aproximado en el que la tienda competidora más cercana abrió.\n",
        "\n",
        "**Promo:** indica si la tienda brinda una promoción en esa fecha.\n",
        "\n",
        "**Promo2:** refiere a un tipo de promoción continua y consecutiva para ciertas tiendas: 0= tienda no participa, 1= tienda participa.\n",
        "\n",
        "**Promo2Since[Year/Week]:** describe la semana y año en los que la tienda comenzó participando en la Promo2.\n",
        "\n",
        "**PromoInterval:** describe los meses en los que comenzó la Promo2. \n"
      ]
    },
    {
      "cell_type": "markdown",
      "metadata": {
        "id": "xKfcwPdHvDrr"
      },
      "source": [
        "A continuación se examinan las tablas cargadas y su contenido"
      ]
    },
    {
      "cell_type": "code",
      "metadata": {
        "colab": {
          "base_uri": "https://localhost:8080/",
          "height": 659
        },
        "id": "0_XJFm70v6XI",
        "outputId": "bc61eb5d-f923-48bb-feae-0600f4d98120"
      },
      "source": [
        "display(train.head())\n",
        "display(DataFrameSummary(train).summary())"
      ],
      "execution_count": 270,
      "outputs": [
        {
          "output_type": "display_data",
          "data": {
            "text/html": [
              "<div>\n",
              "<style scoped>\n",
              "    .dataframe tbody tr th:only-of-type {\n",
              "        vertical-align: middle;\n",
              "    }\n",
              "\n",
              "    .dataframe tbody tr th {\n",
              "        vertical-align: top;\n",
              "    }\n",
              "\n",
              "    .dataframe thead th {\n",
              "        text-align: right;\n",
              "    }\n",
              "</style>\n",
              "<table border=\"1\" class=\"dataframe\">\n",
              "  <thead>\n",
              "    <tr style=\"text-align: right;\">\n",
              "      <th></th>\n",
              "      <th>Store</th>\n",
              "      <th>DayOfWeek</th>\n",
              "      <th>Date</th>\n",
              "      <th>Sales</th>\n",
              "      <th>Customers</th>\n",
              "      <th>Open</th>\n",
              "      <th>Promo</th>\n",
              "      <th>StateHoliday</th>\n",
              "      <th>SchoolHoliday</th>\n",
              "    </tr>\n",
              "  </thead>\n",
              "  <tbody>\n",
              "    <tr>\n",
              "      <th>0</th>\n",
              "      <td>1</td>\n",
              "      <td>5</td>\n",
              "      <td>2015-07-31</td>\n",
              "      <td>5263</td>\n",
              "      <td>555</td>\n",
              "      <td>1</td>\n",
              "      <td>1</td>\n",
              "      <td>0</td>\n",
              "      <td>1</td>\n",
              "    </tr>\n",
              "    <tr>\n",
              "      <th>1</th>\n",
              "      <td>2</td>\n",
              "      <td>5</td>\n",
              "      <td>2015-07-31</td>\n",
              "      <td>6064</td>\n",
              "      <td>625</td>\n",
              "      <td>1</td>\n",
              "      <td>1</td>\n",
              "      <td>0</td>\n",
              "      <td>1</td>\n",
              "    </tr>\n",
              "    <tr>\n",
              "      <th>2</th>\n",
              "      <td>3</td>\n",
              "      <td>5</td>\n",
              "      <td>2015-07-31</td>\n",
              "      <td>8314</td>\n",
              "      <td>821</td>\n",
              "      <td>1</td>\n",
              "      <td>1</td>\n",
              "      <td>0</td>\n",
              "      <td>1</td>\n",
              "    </tr>\n",
              "    <tr>\n",
              "      <th>3</th>\n",
              "      <td>4</td>\n",
              "      <td>5</td>\n",
              "      <td>2015-07-31</td>\n",
              "      <td>13995</td>\n",
              "      <td>1498</td>\n",
              "      <td>1</td>\n",
              "      <td>1</td>\n",
              "      <td>0</td>\n",
              "      <td>1</td>\n",
              "    </tr>\n",
              "    <tr>\n",
              "      <th>4</th>\n",
              "      <td>5</td>\n",
              "      <td>5</td>\n",
              "      <td>2015-07-31</td>\n",
              "      <td>4822</td>\n",
              "      <td>559</td>\n",
              "      <td>1</td>\n",
              "      <td>1</td>\n",
              "      <td>0</td>\n",
              "      <td>1</td>\n",
              "    </tr>\n",
              "  </tbody>\n",
              "</table>\n",
              "</div>"
            ],
            "text/plain": [
              "   Store  DayOfWeek        Date  Sales  ...  Open  Promo  StateHoliday SchoolHoliday\n",
              "0      1          5  2015-07-31   5263  ...     1      1             0             1\n",
              "1      2          5  2015-07-31   6064  ...     1      1             0             1\n",
              "2      3          5  2015-07-31   8314  ...     1      1             0             1\n",
              "3      4          5  2015-07-31  13995  ...     1      1             0             1\n",
              "4      5          5  2015-07-31   4822  ...     1      1             0             1\n",
              "\n",
              "[5 rows x 9 columns]"
            ]
          },
          "metadata": {}
        },
        {
          "output_type": "display_data",
          "data": {
            "text/html": [
              "<div>\n",
              "<style scoped>\n",
              "    .dataframe tbody tr th:only-of-type {\n",
              "        vertical-align: middle;\n",
              "    }\n",
              "\n",
              "    .dataframe tbody tr th {\n",
              "        vertical-align: top;\n",
              "    }\n",
              "\n",
              "    .dataframe thead th {\n",
              "        text-align: right;\n",
              "    }\n",
              "</style>\n",
              "<table border=\"1\" class=\"dataframe\">\n",
              "  <thead>\n",
              "    <tr style=\"text-align: right;\">\n",
              "      <th></th>\n",
              "      <th>Store</th>\n",
              "      <th>DayOfWeek</th>\n",
              "      <th>Date</th>\n",
              "      <th>Sales</th>\n",
              "      <th>Customers</th>\n",
              "      <th>Open</th>\n",
              "      <th>Promo</th>\n",
              "      <th>StateHoliday</th>\n",
              "      <th>SchoolHoliday</th>\n",
              "    </tr>\n",
              "  </thead>\n",
              "  <tbody>\n",
              "    <tr>\n",
              "      <th>count</th>\n",
              "      <td>1.01721e+06</td>\n",
              "      <td>1.01721e+06</td>\n",
              "      <td>NaN</td>\n",
              "      <td>1.01721e+06</td>\n",
              "      <td>1.01721e+06</td>\n",
              "      <td>1.01721e+06</td>\n",
              "      <td>1.01721e+06</td>\n",
              "      <td>NaN</td>\n",
              "      <td>1.01721e+06</td>\n",
              "    </tr>\n",
              "    <tr>\n",
              "      <th>mean</th>\n",
              "      <td>558.43</td>\n",
              "      <td>3.99834</td>\n",
              "      <td>NaN</td>\n",
              "      <td>5773.82</td>\n",
              "      <td>633.146</td>\n",
              "      <td>0.830107</td>\n",
              "      <td>0.381515</td>\n",
              "      <td>NaN</td>\n",
              "      <td>0.178647</td>\n",
              "    </tr>\n",
              "    <tr>\n",
              "      <th>std</th>\n",
              "      <td>321.909</td>\n",
              "      <td>1.99739</td>\n",
              "      <td>NaN</td>\n",
              "      <td>3849.93</td>\n",
              "      <td>464.412</td>\n",
              "      <td>0.375539</td>\n",
              "      <td>0.485759</td>\n",
              "      <td>NaN</td>\n",
              "      <td>0.383056</td>\n",
              "    </tr>\n",
              "    <tr>\n",
              "      <th>min</th>\n",
              "      <td>1</td>\n",
              "      <td>1</td>\n",
              "      <td>NaN</td>\n",
              "      <td>0</td>\n",
              "      <td>0</td>\n",
              "      <td>0</td>\n",
              "      <td>0</td>\n",
              "      <td>NaN</td>\n",
              "      <td>0</td>\n",
              "    </tr>\n",
              "    <tr>\n",
              "      <th>25%</th>\n",
              "      <td>280</td>\n",
              "      <td>2</td>\n",
              "      <td>NaN</td>\n",
              "      <td>3727</td>\n",
              "      <td>405</td>\n",
              "      <td>1</td>\n",
              "      <td>0</td>\n",
              "      <td>NaN</td>\n",
              "      <td>0</td>\n",
              "    </tr>\n",
              "    <tr>\n",
              "      <th>50%</th>\n",
              "      <td>558</td>\n",
              "      <td>4</td>\n",
              "      <td>NaN</td>\n",
              "      <td>5744</td>\n",
              "      <td>609</td>\n",
              "      <td>1</td>\n",
              "      <td>0</td>\n",
              "      <td>NaN</td>\n",
              "      <td>0</td>\n",
              "    </tr>\n",
              "    <tr>\n",
              "      <th>75%</th>\n",
              "      <td>838</td>\n",
              "      <td>6</td>\n",
              "      <td>NaN</td>\n",
              "      <td>7856</td>\n",
              "      <td>837</td>\n",
              "      <td>1</td>\n",
              "      <td>1</td>\n",
              "      <td>NaN</td>\n",
              "      <td>0</td>\n",
              "    </tr>\n",
              "    <tr>\n",
              "      <th>max</th>\n",
              "      <td>1115</td>\n",
              "      <td>7</td>\n",
              "      <td>NaN</td>\n",
              "      <td>41551</td>\n",
              "      <td>7388</td>\n",
              "      <td>1</td>\n",
              "      <td>1</td>\n",
              "      <td>NaN</td>\n",
              "      <td>1</td>\n",
              "    </tr>\n",
              "    <tr>\n",
              "      <th>counts</th>\n",
              "      <td>1017209</td>\n",
              "      <td>1017209</td>\n",
              "      <td>1017209</td>\n",
              "      <td>1017209</td>\n",
              "      <td>1017209</td>\n",
              "      <td>1017209</td>\n",
              "      <td>1017209</td>\n",
              "      <td>1017209</td>\n",
              "      <td>1017209</td>\n",
              "    </tr>\n",
              "    <tr>\n",
              "      <th>uniques</th>\n",
              "      <td>1115</td>\n",
              "      <td>7</td>\n",
              "      <td>942</td>\n",
              "      <td>21734</td>\n",
              "      <td>4086</td>\n",
              "      <td>2</td>\n",
              "      <td>2</td>\n",
              "      <td>5</td>\n",
              "      <td>2</td>\n",
              "    </tr>\n",
              "    <tr>\n",
              "      <th>missing</th>\n",
              "      <td>0</td>\n",
              "      <td>0</td>\n",
              "      <td>0</td>\n",
              "      <td>0</td>\n",
              "      <td>0</td>\n",
              "      <td>0</td>\n",
              "      <td>0</td>\n",
              "      <td>0</td>\n",
              "      <td>0</td>\n",
              "    </tr>\n",
              "    <tr>\n",
              "      <th>missing_perc</th>\n",
              "      <td>0%</td>\n",
              "      <td>0%</td>\n",
              "      <td>0%</td>\n",
              "      <td>0%</td>\n",
              "      <td>0%</td>\n",
              "      <td>0%</td>\n",
              "      <td>0%</td>\n",
              "      <td>0%</td>\n",
              "      <td>0%</td>\n",
              "    </tr>\n",
              "    <tr>\n",
              "      <th>types</th>\n",
              "      <td>numeric</td>\n",
              "      <td>numeric</td>\n",
              "      <td>categorical</td>\n",
              "      <td>numeric</td>\n",
              "      <td>numeric</td>\n",
              "      <td>bool</td>\n",
              "      <td>bool</td>\n",
              "      <td>categorical</td>\n",
              "      <td>bool</td>\n",
              "    </tr>\n",
              "  </tbody>\n",
              "</table>\n",
              "</div>"
            ],
            "text/plain": [
              "                    Store    DayOfWeek  ... StateHoliday SchoolHoliday\n",
              "count         1.01721e+06  1.01721e+06  ...          NaN   1.01721e+06\n",
              "mean               558.43      3.99834  ...          NaN      0.178647\n",
              "std               321.909      1.99739  ...          NaN      0.383056\n",
              "min                     1            1  ...          NaN             0\n",
              "25%                   280            2  ...          NaN             0\n",
              "50%                   558            4  ...          NaN             0\n",
              "75%                   838            6  ...          NaN             0\n",
              "max                  1115            7  ...          NaN             1\n",
              "counts            1017209      1017209  ...      1017209       1017209\n",
              "uniques              1115            7  ...            5             2\n",
              "missing                 0            0  ...            0             0\n",
              "missing_perc           0%           0%  ...           0%            0%\n",
              "types             numeric      numeric  ...  categorical          bool\n",
              "\n",
              "[13 rows x 9 columns]"
            ]
          },
          "metadata": {}
        }
      ]
    },
    {
      "cell_type": "code",
      "metadata": {
        "colab": {
          "base_uri": "https://localhost:8080/",
          "height": 659
        },
        "id": "po0Z13Xyvk2-",
        "outputId": "c0ccc2c0-c2e7-41df-a2d8-72e669ec4940"
      },
      "source": [
        "display(store.head())\n",
        "display(DataFrameSummary(store).summary())"
      ],
      "execution_count": 271,
      "outputs": [
        {
          "output_type": "display_data",
          "data": {
            "text/html": [
              "<div>\n",
              "<style scoped>\n",
              "    .dataframe tbody tr th:only-of-type {\n",
              "        vertical-align: middle;\n",
              "    }\n",
              "\n",
              "    .dataframe tbody tr th {\n",
              "        vertical-align: top;\n",
              "    }\n",
              "\n",
              "    .dataframe thead th {\n",
              "        text-align: right;\n",
              "    }\n",
              "</style>\n",
              "<table border=\"1\" class=\"dataframe\">\n",
              "  <thead>\n",
              "    <tr style=\"text-align: right;\">\n",
              "      <th></th>\n",
              "      <th>Store</th>\n",
              "      <th>StoreType</th>\n",
              "      <th>Assortment</th>\n",
              "      <th>CompetitionDistance</th>\n",
              "      <th>CompetitionOpenSinceMonth</th>\n",
              "      <th>CompetitionOpenSinceYear</th>\n",
              "      <th>Promo2</th>\n",
              "      <th>Promo2SinceWeek</th>\n",
              "      <th>Promo2SinceYear</th>\n",
              "      <th>PromoInterval</th>\n",
              "    </tr>\n",
              "  </thead>\n",
              "  <tbody>\n",
              "    <tr>\n",
              "      <th>0</th>\n",
              "      <td>1</td>\n",
              "      <td>c</td>\n",
              "      <td>a</td>\n",
              "      <td>1270.0</td>\n",
              "      <td>9.0</td>\n",
              "      <td>2008.0</td>\n",
              "      <td>0</td>\n",
              "      <td>NaN</td>\n",
              "      <td>NaN</td>\n",
              "      <td>NaN</td>\n",
              "    </tr>\n",
              "    <tr>\n",
              "      <th>1</th>\n",
              "      <td>2</td>\n",
              "      <td>a</td>\n",
              "      <td>a</td>\n",
              "      <td>570.0</td>\n",
              "      <td>11.0</td>\n",
              "      <td>2007.0</td>\n",
              "      <td>1</td>\n",
              "      <td>13.0</td>\n",
              "      <td>2010.0</td>\n",
              "      <td>Jan,Apr,Jul,Oct</td>\n",
              "    </tr>\n",
              "    <tr>\n",
              "      <th>2</th>\n",
              "      <td>3</td>\n",
              "      <td>a</td>\n",
              "      <td>a</td>\n",
              "      <td>14130.0</td>\n",
              "      <td>12.0</td>\n",
              "      <td>2006.0</td>\n",
              "      <td>1</td>\n",
              "      <td>14.0</td>\n",
              "      <td>2011.0</td>\n",
              "      <td>Jan,Apr,Jul,Oct</td>\n",
              "    </tr>\n",
              "    <tr>\n",
              "      <th>3</th>\n",
              "      <td>4</td>\n",
              "      <td>c</td>\n",
              "      <td>c</td>\n",
              "      <td>620.0</td>\n",
              "      <td>9.0</td>\n",
              "      <td>2009.0</td>\n",
              "      <td>0</td>\n",
              "      <td>NaN</td>\n",
              "      <td>NaN</td>\n",
              "      <td>NaN</td>\n",
              "    </tr>\n",
              "    <tr>\n",
              "      <th>4</th>\n",
              "      <td>5</td>\n",
              "      <td>a</td>\n",
              "      <td>a</td>\n",
              "      <td>29910.0</td>\n",
              "      <td>4.0</td>\n",
              "      <td>2015.0</td>\n",
              "      <td>0</td>\n",
              "      <td>NaN</td>\n",
              "      <td>NaN</td>\n",
              "      <td>NaN</td>\n",
              "    </tr>\n",
              "  </tbody>\n",
              "</table>\n",
              "</div>"
            ],
            "text/plain": [
              "   Store StoreType  ... Promo2SinceYear    PromoInterval\n",
              "0      1         c  ...             NaN              NaN\n",
              "1      2         a  ...          2010.0  Jan,Apr,Jul,Oct\n",
              "2      3         a  ...          2011.0  Jan,Apr,Jul,Oct\n",
              "3      4         c  ...             NaN              NaN\n",
              "4      5         a  ...             NaN              NaN\n",
              "\n",
              "[5 rows x 10 columns]"
            ]
          },
          "metadata": {}
        },
        {
          "output_type": "display_data",
          "data": {
            "text/html": [
              "<div>\n",
              "<style scoped>\n",
              "    .dataframe tbody tr th:only-of-type {\n",
              "        vertical-align: middle;\n",
              "    }\n",
              "\n",
              "    .dataframe tbody tr th {\n",
              "        vertical-align: top;\n",
              "    }\n",
              "\n",
              "    .dataframe thead th {\n",
              "        text-align: right;\n",
              "    }\n",
              "</style>\n",
              "<table border=\"1\" class=\"dataframe\">\n",
              "  <thead>\n",
              "    <tr style=\"text-align: right;\">\n",
              "      <th></th>\n",
              "      <th>Store</th>\n",
              "      <th>StoreType</th>\n",
              "      <th>Assortment</th>\n",
              "      <th>CompetitionDistance</th>\n",
              "      <th>CompetitionOpenSinceMonth</th>\n",
              "      <th>CompetitionOpenSinceYear</th>\n",
              "      <th>Promo2</th>\n",
              "      <th>Promo2SinceWeek</th>\n",
              "      <th>Promo2SinceYear</th>\n",
              "      <th>PromoInterval</th>\n",
              "    </tr>\n",
              "  </thead>\n",
              "  <tbody>\n",
              "    <tr>\n",
              "      <th>count</th>\n",
              "      <td>1115</td>\n",
              "      <td>NaN</td>\n",
              "      <td>NaN</td>\n",
              "      <td>1112</td>\n",
              "      <td>761</td>\n",
              "      <td>761</td>\n",
              "      <td>1115</td>\n",
              "      <td>571</td>\n",
              "      <td>571</td>\n",
              "      <td>NaN</td>\n",
              "    </tr>\n",
              "    <tr>\n",
              "      <th>mean</th>\n",
              "      <td>558</td>\n",
              "      <td>NaN</td>\n",
              "      <td>NaN</td>\n",
              "      <td>5404.9</td>\n",
              "      <td>7.2247</td>\n",
              "      <td>2008.67</td>\n",
              "      <td>0.512108</td>\n",
              "      <td>23.5954</td>\n",
              "      <td>2011.76</td>\n",
              "      <td>NaN</td>\n",
              "    </tr>\n",
              "    <tr>\n",
              "      <th>std</th>\n",
              "      <td>322.017</td>\n",
              "      <td>NaN</td>\n",
              "      <td>NaN</td>\n",
              "      <td>7663.17</td>\n",
              "      <td>3.21235</td>\n",
              "      <td>6.19598</td>\n",
              "      <td>0.500078</td>\n",
              "      <td>14.142</td>\n",
              "      <td>1.67494</td>\n",
              "      <td>NaN</td>\n",
              "    </tr>\n",
              "    <tr>\n",
              "      <th>min</th>\n",
              "      <td>1</td>\n",
              "      <td>NaN</td>\n",
              "      <td>NaN</td>\n",
              "      <td>20</td>\n",
              "      <td>1</td>\n",
              "      <td>1900</td>\n",
              "      <td>0</td>\n",
              "      <td>1</td>\n",
              "      <td>2009</td>\n",
              "      <td>NaN</td>\n",
              "    </tr>\n",
              "    <tr>\n",
              "      <th>25%</th>\n",
              "      <td>279.5</td>\n",
              "      <td>NaN</td>\n",
              "      <td>NaN</td>\n",
              "      <td>717.5</td>\n",
              "      <td>4</td>\n",
              "      <td>2006</td>\n",
              "      <td>0</td>\n",
              "      <td>13</td>\n",
              "      <td>2011</td>\n",
              "      <td>NaN</td>\n",
              "    </tr>\n",
              "    <tr>\n",
              "      <th>50%</th>\n",
              "      <td>558</td>\n",
              "      <td>NaN</td>\n",
              "      <td>NaN</td>\n",
              "      <td>2325</td>\n",
              "      <td>8</td>\n",
              "      <td>2010</td>\n",
              "      <td>1</td>\n",
              "      <td>22</td>\n",
              "      <td>2012</td>\n",
              "      <td>NaN</td>\n",
              "    </tr>\n",
              "    <tr>\n",
              "      <th>75%</th>\n",
              "      <td>836.5</td>\n",
              "      <td>NaN</td>\n",
              "      <td>NaN</td>\n",
              "      <td>6882.5</td>\n",
              "      <td>10</td>\n",
              "      <td>2013</td>\n",
              "      <td>1</td>\n",
              "      <td>37</td>\n",
              "      <td>2013</td>\n",
              "      <td>NaN</td>\n",
              "    </tr>\n",
              "    <tr>\n",
              "      <th>max</th>\n",
              "      <td>1115</td>\n",
              "      <td>NaN</td>\n",
              "      <td>NaN</td>\n",
              "      <td>75860</td>\n",
              "      <td>12</td>\n",
              "      <td>2015</td>\n",
              "      <td>1</td>\n",
              "      <td>50</td>\n",
              "      <td>2015</td>\n",
              "      <td>NaN</td>\n",
              "    </tr>\n",
              "    <tr>\n",
              "      <th>counts</th>\n",
              "      <td>1115</td>\n",
              "      <td>1115</td>\n",
              "      <td>1115</td>\n",
              "      <td>1112</td>\n",
              "      <td>761</td>\n",
              "      <td>761</td>\n",
              "      <td>1115</td>\n",
              "      <td>571</td>\n",
              "      <td>571</td>\n",
              "      <td>571</td>\n",
              "    </tr>\n",
              "    <tr>\n",
              "      <th>uniques</th>\n",
              "      <td>1115</td>\n",
              "      <td>4</td>\n",
              "      <td>3</td>\n",
              "      <td>654</td>\n",
              "      <td>12</td>\n",
              "      <td>23</td>\n",
              "      <td>2</td>\n",
              "      <td>24</td>\n",
              "      <td>7</td>\n",
              "      <td>3</td>\n",
              "    </tr>\n",
              "    <tr>\n",
              "      <th>missing</th>\n",
              "      <td>0</td>\n",
              "      <td>0</td>\n",
              "      <td>0</td>\n",
              "      <td>3</td>\n",
              "      <td>354</td>\n",
              "      <td>354</td>\n",
              "      <td>0</td>\n",
              "      <td>544</td>\n",
              "      <td>544</td>\n",
              "      <td>544</td>\n",
              "    </tr>\n",
              "    <tr>\n",
              "      <th>missing_perc</th>\n",
              "      <td>0%</td>\n",
              "      <td>0%</td>\n",
              "      <td>0%</td>\n",
              "      <td>0.27%</td>\n",
              "      <td>31.75%</td>\n",
              "      <td>31.75%</td>\n",
              "      <td>0%</td>\n",
              "      <td>48.79%</td>\n",
              "      <td>48.79%</td>\n",
              "      <td>48.79%</td>\n",
              "    </tr>\n",
              "    <tr>\n",
              "      <th>types</th>\n",
              "      <td>numeric</td>\n",
              "      <td>categorical</td>\n",
              "      <td>categorical</td>\n",
              "      <td>numeric</td>\n",
              "      <td>numeric</td>\n",
              "      <td>numeric</td>\n",
              "      <td>bool</td>\n",
              "      <td>numeric</td>\n",
              "      <td>numeric</td>\n",
              "      <td>categorical</td>\n",
              "    </tr>\n",
              "  </tbody>\n",
              "</table>\n",
              "</div>"
            ],
            "text/plain": [
              "                Store    StoreType  ... Promo2SinceYear PromoInterval\n",
              "count            1115          NaN  ...             571           NaN\n",
              "mean              558          NaN  ...         2011.76           NaN\n",
              "std           322.017          NaN  ...         1.67494           NaN\n",
              "min                 1          NaN  ...            2009           NaN\n",
              "25%             279.5          NaN  ...            2011           NaN\n",
              "50%               558          NaN  ...            2012           NaN\n",
              "75%             836.5          NaN  ...            2013           NaN\n",
              "max              1115          NaN  ...            2015           NaN\n",
              "counts           1115         1115  ...             571           571\n",
              "uniques          1115            4  ...               7             3\n",
              "missing             0            0  ...             544           544\n",
              "missing_perc       0%           0%  ...          48.79%        48.79%\n",
              "types         numeric  categorical  ...         numeric   categorical\n",
              "\n",
              "[13 rows x 10 columns]"
            ]
          },
          "metadata": {}
        }
      ]
    },
    {
      "cell_type": "code",
      "metadata": {
        "colab": {
          "base_uri": "https://localhost:8080/",
          "height": 639
        },
        "id": "i_XfC7O2vonV",
        "outputId": "d921b896-b5c3-463a-b087-061e82056f18"
      },
      "source": [
        "display(store_states.head())\n",
        "display(DataFrameSummary(store_states).summary())"
      ],
      "execution_count": 272,
      "outputs": [
        {
          "output_type": "display_data",
          "data": {
            "text/html": [
              "<div>\n",
              "<style scoped>\n",
              "    .dataframe tbody tr th:only-of-type {\n",
              "        vertical-align: middle;\n",
              "    }\n",
              "\n",
              "    .dataframe tbody tr th {\n",
              "        vertical-align: top;\n",
              "    }\n",
              "\n",
              "    .dataframe thead th {\n",
              "        text-align: right;\n",
              "    }\n",
              "</style>\n",
              "<table border=\"1\" class=\"dataframe\">\n",
              "  <thead>\n",
              "    <tr style=\"text-align: right;\">\n",
              "      <th></th>\n",
              "      <th>Store</th>\n",
              "      <th>State</th>\n",
              "    </tr>\n",
              "  </thead>\n",
              "  <tbody>\n",
              "    <tr>\n",
              "      <th>0</th>\n",
              "      <td>1</td>\n",
              "      <td>HE</td>\n",
              "    </tr>\n",
              "    <tr>\n",
              "      <th>1</th>\n",
              "      <td>2</td>\n",
              "      <td>TH</td>\n",
              "    </tr>\n",
              "    <tr>\n",
              "      <th>2</th>\n",
              "      <td>3</td>\n",
              "      <td>NW</td>\n",
              "    </tr>\n",
              "    <tr>\n",
              "      <th>3</th>\n",
              "      <td>4</td>\n",
              "      <td>BE</td>\n",
              "    </tr>\n",
              "    <tr>\n",
              "      <th>4</th>\n",
              "      <td>5</td>\n",
              "      <td>SN</td>\n",
              "    </tr>\n",
              "  </tbody>\n",
              "</table>\n",
              "</div>"
            ],
            "text/plain": [
              "   Store State\n",
              "0      1    HE\n",
              "1      2    TH\n",
              "2      3    NW\n",
              "3      4    BE\n",
              "4      5    SN"
            ]
          },
          "metadata": {}
        },
        {
          "output_type": "display_data",
          "data": {
            "text/html": [
              "<div>\n",
              "<style scoped>\n",
              "    .dataframe tbody tr th:only-of-type {\n",
              "        vertical-align: middle;\n",
              "    }\n",
              "\n",
              "    .dataframe tbody tr th {\n",
              "        vertical-align: top;\n",
              "    }\n",
              "\n",
              "    .dataframe thead th {\n",
              "        text-align: right;\n",
              "    }\n",
              "</style>\n",
              "<table border=\"1\" class=\"dataframe\">\n",
              "  <thead>\n",
              "    <tr style=\"text-align: right;\">\n",
              "      <th></th>\n",
              "      <th>Store</th>\n",
              "      <th>State</th>\n",
              "    </tr>\n",
              "  </thead>\n",
              "  <tbody>\n",
              "    <tr>\n",
              "      <th>count</th>\n",
              "      <td>1115</td>\n",
              "      <td>NaN</td>\n",
              "    </tr>\n",
              "    <tr>\n",
              "      <th>mean</th>\n",
              "      <td>558</td>\n",
              "      <td>NaN</td>\n",
              "    </tr>\n",
              "    <tr>\n",
              "      <th>std</th>\n",
              "      <td>322.017</td>\n",
              "      <td>NaN</td>\n",
              "    </tr>\n",
              "    <tr>\n",
              "      <th>min</th>\n",
              "      <td>1</td>\n",
              "      <td>NaN</td>\n",
              "    </tr>\n",
              "    <tr>\n",
              "      <th>25%</th>\n",
              "      <td>279.5</td>\n",
              "      <td>NaN</td>\n",
              "    </tr>\n",
              "    <tr>\n",
              "      <th>50%</th>\n",
              "      <td>558</td>\n",
              "      <td>NaN</td>\n",
              "    </tr>\n",
              "    <tr>\n",
              "      <th>75%</th>\n",
              "      <td>836.5</td>\n",
              "      <td>NaN</td>\n",
              "    </tr>\n",
              "    <tr>\n",
              "      <th>max</th>\n",
              "      <td>1115</td>\n",
              "      <td>NaN</td>\n",
              "    </tr>\n",
              "    <tr>\n",
              "      <th>counts</th>\n",
              "      <td>1115</td>\n",
              "      <td>1115</td>\n",
              "    </tr>\n",
              "    <tr>\n",
              "      <th>uniques</th>\n",
              "      <td>1115</td>\n",
              "      <td>12</td>\n",
              "    </tr>\n",
              "    <tr>\n",
              "      <th>missing</th>\n",
              "      <td>0</td>\n",
              "      <td>0</td>\n",
              "    </tr>\n",
              "    <tr>\n",
              "      <th>missing_perc</th>\n",
              "      <td>0%</td>\n",
              "      <td>0%</td>\n",
              "    </tr>\n",
              "    <tr>\n",
              "      <th>types</th>\n",
              "      <td>numeric</td>\n",
              "      <td>categorical</td>\n",
              "    </tr>\n",
              "  </tbody>\n",
              "</table>\n",
              "</div>"
            ],
            "text/plain": [
              "                Store        State\n",
              "count            1115          NaN\n",
              "mean              558          NaN\n",
              "std           322.017          NaN\n",
              "min                 1          NaN\n",
              "25%             279.5          NaN\n",
              "50%               558          NaN\n",
              "75%             836.5          NaN\n",
              "max              1115          NaN\n",
              "counts           1115         1115\n",
              "uniques          1115           12\n",
              "missing             0            0\n",
              "missing_perc       0%           0%\n",
              "types         numeric  categorical"
            ]
          },
          "metadata": {}
        }
      ]
    },
    {
      "cell_type": "code",
      "metadata": {
        "colab": {
          "base_uri": "https://localhost:8080/",
          "height": 515
        },
        "id": "Ca18Ue8gvr5f",
        "outputId": "14fa9406-35b1-419a-8bfe-f57b9a8de9b0"
      },
      "source": [
        "display(state_names.head())\n",
        "display(DataFrameSummary(state_names).summary())"
      ],
      "execution_count": 273,
      "outputs": [
        {
          "output_type": "display_data",
          "data": {
            "text/html": [
              "<div>\n",
              "<style scoped>\n",
              "    .dataframe tbody tr th:only-of-type {\n",
              "        vertical-align: middle;\n",
              "    }\n",
              "\n",
              "    .dataframe tbody tr th {\n",
              "        vertical-align: top;\n",
              "    }\n",
              "\n",
              "    .dataframe thead th {\n",
              "        text-align: right;\n",
              "    }\n",
              "</style>\n",
              "<table border=\"1\" class=\"dataframe\">\n",
              "  <thead>\n",
              "    <tr style=\"text-align: right;\">\n",
              "      <th></th>\n",
              "      <th>StateName</th>\n",
              "      <th>State</th>\n",
              "    </tr>\n",
              "  </thead>\n",
              "  <tbody>\n",
              "    <tr>\n",
              "      <th>0</th>\n",
              "      <td>BadenWuerttemberg</td>\n",
              "      <td>BW</td>\n",
              "    </tr>\n",
              "    <tr>\n",
              "      <th>1</th>\n",
              "      <td>Bayern</td>\n",
              "      <td>BY</td>\n",
              "    </tr>\n",
              "    <tr>\n",
              "      <th>2</th>\n",
              "      <td>Berlin</td>\n",
              "      <td>BE</td>\n",
              "    </tr>\n",
              "    <tr>\n",
              "      <th>3</th>\n",
              "      <td>Brandenburg</td>\n",
              "      <td>BB</td>\n",
              "    </tr>\n",
              "    <tr>\n",
              "      <th>4</th>\n",
              "      <td>Bremen</td>\n",
              "      <td>HB</td>\n",
              "    </tr>\n",
              "  </tbody>\n",
              "</table>\n",
              "</div>"
            ],
            "text/plain": [
              "           StateName State\n",
              "0  BadenWuerttemberg    BW\n",
              "1             Bayern    BY\n",
              "2             Berlin    BE\n",
              "3        Brandenburg    BB\n",
              "4             Bremen    HB"
            ]
          },
          "metadata": {}
        },
        {
          "output_type": "display_data",
          "data": {
            "text/html": [
              "<div>\n",
              "<style scoped>\n",
              "    .dataframe tbody tr th:only-of-type {\n",
              "        vertical-align: middle;\n",
              "    }\n",
              "\n",
              "    .dataframe tbody tr th {\n",
              "        vertical-align: top;\n",
              "    }\n",
              "\n",
              "    .dataframe thead th {\n",
              "        text-align: right;\n",
              "    }\n",
              "</style>\n",
              "<table border=\"1\" class=\"dataframe\">\n",
              "  <thead>\n",
              "    <tr style=\"text-align: right;\">\n",
              "      <th></th>\n",
              "      <th>StateName</th>\n",
              "      <th>State</th>\n",
              "    </tr>\n",
              "  </thead>\n",
              "  <tbody>\n",
              "    <tr>\n",
              "      <th>count</th>\n",
              "      <td>16</td>\n",
              "      <td>16</td>\n",
              "    </tr>\n",
              "    <tr>\n",
              "      <th>unique</th>\n",
              "      <td>16</td>\n",
              "      <td>16</td>\n",
              "    </tr>\n",
              "    <tr>\n",
              "      <th>top</th>\n",
              "      <td>SachsenAnhalt</td>\n",
              "      <td>SL</td>\n",
              "    </tr>\n",
              "    <tr>\n",
              "      <th>freq</th>\n",
              "      <td>1</td>\n",
              "      <td>1</td>\n",
              "    </tr>\n",
              "    <tr>\n",
              "      <th>counts</th>\n",
              "      <td>16</td>\n",
              "      <td>16</td>\n",
              "    </tr>\n",
              "    <tr>\n",
              "      <th>uniques</th>\n",
              "      <td>16</td>\n",
              "      <td>16</td>\n",
              "    </tr>\n",
              "    <tr>\n",
              "      <th>missing</th>\n",
              "      <td>0</td>\n",
              "      <td>0</td>\n",
              "    </tr>\n",
              "    <tr>\n",
              "      <th>missing_perc</th>\n",
              "      <td>0%</td>\n",
              "      <td>0%</td>\n",
              "    </tr>\n",
              "    <tr>\n",
              "      <th>types</th>\n",
              "      <td>unique</td>\n",
              "      <td>unique</td>\n",
              "    </tr>\n",
              "  </tbody>\n",
              "</table>\n",
              "</div>"
            ],
            "text/plain": [
              "                  StateName   State\n",
              "count                    16      16\n",
              "unique                   16      16\n",
              "top           SachsenAnhalt      SL\n",
              "freq                      1       1\n",
              "counts                   16      16\n",
              "uniques                  16      16\n",
              "missing                   0       0\n",
              "missing_perc             0%      0%\n",
              "types                unique  unique"
            ]
          },
          "metadata": {}
        }
      ]
    },
    {
      "cell_type": "code",
      "metadata": {
        "colab": {
          "base_uri": "https://localhost:8080/",
          "height": 639
        },
        "id": "DU7KQPGtvJx0",
        "outputId": "7343516e-898b-4085-eac1-dc50f83e45fb"
      },
      "source": [
        "display(googletrend.head())\n",
        "display(DataFrameSummary(googletrend).summary())"
      ],
      "execution_count": 274,
      "outputs": [
        {
          "output_type": "display_data",
          "data": {
            "text/html": [
              "<div>\n",
              "<style scoped>\n",
              "    .dataframe tbody tr th:only-of-type {\n",
              "        vertical-align: middle;\n",
              "    }\n",
              "\n",
              "    .dataframe tbody tr th {\n",
              "        vertical-align: top;\n",
              "    }\n",
              "\n",
              "    .dataframe thead th {\n",
              "        text-align: right;\n",
              "    }\n",
              "</style>\n",
              "<table border=\"1\" class=\"dataframe\">\n",
              "  <thead>\n",
              "    <tr style=\"text-align: right;\">\n",
              "      <th></th>\n",
              "      <th>file</th>\n",
              "      <th>week</th>\n",
              "      <th>trend</th>\n",
              "    </tr>\n",
              "  </thead>\n",
              "  <tbody>\n",
              "    <tr>\n",
              "      <th>0</th>\n",
              "      <td>Rossmann_DE_SN</td>\n",
              "      <td>2012-12-02 - 2012-12-08</td>\n",
              "      <td>96</td>\n",
              "    </tr>\n",
              "    <tr>\n",
              "      <th>1</th>\n",
              "      <td>Rossmann_DE_SN</td>\n",
              "      <td>2012-12-09 - 2012-12-15</td>\n",
              "      <td>95</td>\n",
              "    </tr>\n",
              "    <tr>\n",
              "      <th>2</th>\n",
              "      <td>Rossmann_DE_SN</td>\n",
              "      <td>2012-12-16 - 2012-12-22</td>\n",
              "      <td>91</td>\n",
              "    </tr>\n",
              "    <tr>\n",
              "      <th>3</th>\n",
              "      <td>Rossmann_DE_SN</td>\n",
              "      <td>2012-12-23 - 2012-12-29</td>\n",
              "      <td>48</td>\n",
              "    </tr>\n",
              "    <tr>\n",
              "      <th>4</th>\n",
              "      <td>Rossmann_DE_SN</td>\n",
              "      <td>2012-12-30 - 2013-01-05</td>\n",
              "      <td>67</td>\n",
              "    </tr>\n",
              "  </tbody>\n",
              "</table>\n",
              "</div>"
            ],
            "text/plain": [
              "             file                     week  trend\n",
              "0  Rossmann_DE_SN  2012-12-02 - 2012-12-08     96\n",
              "1  Rossmann_DE_SN  2012-12-09 - 2012-12-15     95\n",
              "2  Rossmann_DE_SN  2012-12-16 - 2012-12-22     91\n",
              "3  Rossmann_DE_SN  2012-12-23 - 2012-12-29     48\n",
              "4  Rossmann_DE_SN  2012-12-30 - 2013-01-05     67"
            ]
          },
          "metadata": {}
        },
        {
          "output_type": "display_data",
          "data": {
            "text/html": [
              "<div>\n",
              "<style scoped>\n",
              "    .dataframe tbody tr th:only-of-type {\n",
              "        vertical-align: middle;\n",
              "    }\n",
              "\n",
              "    .dataframe tbody tr th {\n",
              "        vertical-align: top;\n",
              "    }\n",
              "\n",
              "    .dataframe thead th {\n",
              "        text-align: right;\n",
              "    }\n",
              "</style>\n",
              "<table border=\"1\" class=\"dataframe\">\n",
              "  <thead>\n",
              "    <tr style=\"text-align: right;\">\n",
              "      <th></th>\n",
              "      <th>file</th>\n",
              "      <th>week</th>\n",
              "      <th>trend</th>\n",
              "    </tr>\n",
              "  </thead>\n",
              "  <tbody>\n",
              "    <tr>\n",
              "      <th>count</th>\n",
              "      <td>NaN</td>\n",
              "      <td>NaN</td>\n",
              "      <td>2072</td>\n",
              "    </tr>\n",
              "    <tr>\n",
              "      <th>mean</th>\n",
              "      <td>NaN</td>\n",
              "      <td>NaN</td>\n",
              "      <td>63.8142</td>\n",
              "    </tr>\n",
              "    <tr>\n",
              "      <th>std</th>\n",
              "      <td>NaN</td>\n",
              "      <td>NaN</td>\n",
              "      <td>12.6502</td>\n",
              "    </tr>\n",
              "    <tr>\n",
              "      <th>min</th>\n",
              "      <td>NaN</td>\n",
              "      <td>NaN</td>\n",
              "      <td>0</td>\n",
              "    </tr>\n",
              "    <tr>\n",
              "      <th>25%</th>\n",
              "      <td>NaN</td>\n",
              "      <td>NaN</td>\n",
              "      <td>55</td>\n",
              "    </tr>\n",
              "    <tr>\n",
              "      <th>50%</th>\n",
              "      <td>NaN</td>\n",
              "      <td>NaN</td>\n",
              "      <td>64</td>\n",
              "    </tr>\n",
              "    <tr>\n",
              "      <th>75%</th>\n",
              "      <td>NaN</td>\n",
              "      <td>NaN</td>\n",
              "      <td>72</td>\n",
              "    </tr>\n",
              "    <tr>\n",
              "      <th>max</th>\n",
              "      <td>NaN</td>\n",
              "      <td>NaN</td>\n",
              "      <td>100</td>\n",
              "    </tr>\n",
              "    <tr>\n",
              "      <th>counts</th>\n",
              "      <td>2072</td>\n",
              "      <td>2072</td>\n",
              "      <td>2072</td>\n",
              "    </tr>\n",
              "    <tr>\n",
              "      <th>uniques</th>\n",
              "      <td>14</td>\n",
              "      <td>148</td>\n",
              "      <td>68</td>\n",
              "    </tr>\n",
              "    <tr>\n",
              "      <th>missing</th>\n",
              "      <td>0</td>\n",
              "      <td>0</td>\n",
              "      <td>0</td>\n",
              "    </tr>\n",
              "    <tr>\n",
              "      <th>missing_perc</th>\n",
              "      <td>0%</td>\n",
              "      <td>0%</td>\n",
              "      <td>0%</td>\n",
              "    </tr>\n",
              "    <tr>\n",
              "      <th>types</th>\n",
              "      <td>categorical</td>\n",
              "      <td>categorical</td>\n",
              "      <td>numeric</td>\n",
              "    </tr>\n",
              "  </tbody>\n",
              "</table>\n",
              "</div>"
            ],
            "text/plain": [
              "                     file         week    trend\n",
              "count                 NaN          NaN     2072\n",
              "mean                  NaN          NaN  63.8142\n",
              "std                   NaN          NaN  12.6502\n",
              "min                   NaN          NaN        0\n",
              "25%                   NaN          NaN       55\n",
              "50%                   NaN          NaN       64\n",
              "75%                   NaN          NaN       72\n",
              "max                   NaN          NaN      100\n",
              "counts               2072         2072     2072\n",
              "uniques                14          148       68\n",
              "missing                 0            0        0\n",
              "missing_perc           0%           0%       0%\n",
              "types         categorical  categorical  numeric"
            ]
          },
          "metadata": {}
        }
      ]
    },
    {
      "cell_type": "code",
      "metadata": {
        "colab": {
          "base_uri": "https://localhost:8080/",
          "height": 744
        },
        "id": "d6EFR6r-vaSB",
        "outputId": "c54fde61-104b-496c-885a-a6315fe3f017"
      },
      "source": [
        "display(weather.head())\n",
        "display(DataFrameSummary(weather).summary())"
      ],
      "execution_count": 275,
      "outputs": [
        {
          "output_type": "display_data",
          "data": {
            "text/html": [
              "<div>\n",
              "<style scoped>\n",
              "    .dataframe tbody tr th:only-of-type {\n",
              "        vertical-align: middle;\n",
              "    }\n",
              "\n",
              "    .dataframe tbody tr th {\n",
              "        vertical-align: top;\n",
              "    }\n",
              "\n",
              "    .dataframe thead th {\n",
              "        text-align: right;\n",
              "    }\n",
              "</style>\n",
              "<table border=\"1\" class=\"dataframe\">\n",
              "  <thead>\n",
              "    <tr style=\"text-align: right;\">\n",
              "      <th></th>\n",
              "      <th>file</th>\n",
              "      <th>Date</th>\n",
              "      <th>Max_TemperatureC</th>\n",
              "      <th>Mean_TemperatureC</th>\n",
              "      <th>Min_TemperatureC</th>\n",
              "      <th>Dew_PointC</th>\n",
              "      <th>MeanDew_PointC</th>\n",
              "      <th>Min_DewpointC</th>\n",
              "      <th>Max_Humidity</th>\n",
              "      <th>Mean_Humidity</th>\n",
              "      <th>Min_Humidity</th>\n",
              "      <th>Max_Sea_Level_PressurehPa</th>\n",
              "      <th>Mean_Sea_Level_PressurehPa</th>\n",
              "      <th>Min_Sea_Level_PressurehPa</th>\n",
              "      <th>Max_VisibilityKm</th>\n",
              "      <th>Mean_VisibilityKm</th>\n",
              "      <th>Min_VisibilitykM</th>\n",
              "      <th>Max_Wind_SpeedKm_h</th>\n",
              "      <th>Mean_Wind_SpeedKm_h</th>\n",
              "      <th>Max_Gust_SpeedKm_h</th>\n",
              "      <th>Precipitationmm</th>\n",
              "      <th>CloudCover</th>\n",
              "      <th>Events</th>\n",
              "      <th>WindDirDegrees</th>\n",
              "    </tr>\n",
              "  </thead>\n",
              "  <tbody>\n",
              "    <tr>\n",
              "      <th>0</th>\n",
              "      <td>NordrheinWestfalen</td>\n",
              "      <td>2013-01-01</td>\n",
              "      <td>8</td>\n",
              "      <td>4</td>\n",
              "      <td>2</td>\n",
              "      <td>7</td>\n",
              "      <td>5</td>\n",
              "      <td>1</td>\n",
              "      <td>94</td>\n",
              "      <td>87</td>\n",
              "      <td>65</td>\n",
              "      <td>1013</td>\n",
              "      <td>1005</td>\n",
              "      <td>1001</td>\n",
              "      <td>31.0</td>\n",
              "      <td>12.0</td>\n",
              "      <td>4.0</td>\n",
              "      <td>39</td>\n",
              "      <td>26</td>\n",
              "      <td>58.0</td>\n",
              "      <td>5.08</td>\n",
              "      <td>6.0</td>\n",
              "      <td>Rain</td>\n",
              "      <td>215</td>\n",
              "    </tr>\n",
              "    <tr>\n",
              "      <th>1</th>\n",
              "      <td>NordrheinWestfalen</td>\n",
              "      <td>2013-01-02</td>\n",
              "      <td>7</td>\n",
              "      <td>4</td>\n",
              "      <td>1</td>\n",
              "      <td>5</td>\n",
              "      <td>3</td>\n",
              "      <td>2</td>\n",
              "      <td>93</td>\n",
              "      <td>85</td>\n",
              "      <td>78</td>\n",
              "      <td>1028</td>\n",
              "      <td>1022</td>\n",
              "      <td>1014</td>\n",
              "      <td>31.0</td>\n",
              "      <td>14.0</td>\n",
              "      <td>10.0</td>\n",
              "      <td>24</td>\n",
              "      <td>16</td>\n",
              "      <td>NaN</td>\n",
              "      <td>0.00</td>\n",
              "      <td>6.0</td>\n",
              "      <td>Rain</td>\n",
              "      <td>225</td>\n",
              "    </tr>\n",
              "    <tr>\n",
              "      <th>2</th>\n",
              "      <td>NordrheinWestfalen</td>\n",
              "      <td>2013-01-03</td>\n",
              "      <td>11</td>\n",
              "      <td>8</td>\n",
              "      <td>6</td>\n",
              "      <td>10</td>\n",
              "      <td>8</td>\n",
              "      <td>4</td>\n",
              "      <td>100</td>\n",
              "      <td>93</td>\n",
              "      <td>77</td>\n",
              "      <td>1035</td>\n",
              "      <td>1030</td>\n",
              "      <td>1026</td>\n",
              "      <td>31.0</td>\n",
              "      <td>8.0</td>\n",
              "      <td>2.0</td>\n",
              "      <td>26</td>\n",
              "      <td>21</td>\n",
              "      <td>NaN</td>\n",
              "      <td>1.02</td>\n",
              "      <td>7.0</td>\n",
              "      <td>Rain</td>\n",
              "      <td>240</td>\n",
              "    </tr>\n",
              "    <tr>\n",
              "      <th>3</th>\n",
              "      <td>NordrheinWestfalen</td>\n",
              "      <td>2013-01-04</td>\n",
              "      <td>9</td>\n",
              "      <td>9</td>\n",
              "      <td>8</td>\n",
              "      <td>9</td>\n",
              "      <td>9</td>\n",
              "      <td>8</td>\n",
              "      <td>100</td>\n",
              "      <td>94</td>\n",
              "      <td>87</td>\n",
              "      <td>1036</td>\n",
              "      <td>1035</td>\n",
              "      <td>1034</td>\n",
              "      <td>11.0</td>\n",
              "      <td>5.0</td>\n",
              "      <td>2.0</td>\n",
              "      <td>23</td>\n",
              "      <td>14</td>\n",
              "      <td>NaN</td>\n",
              "      <td>0.25</td>\n",
              "      <td>7.0</td>\n",
              "      <td>Rain</td>\n",
              "      <td>263</td>\n",
              "    </tr>\n",
              "    <tr>\n",
              "      <th>4</th>\n",
              "      <td>NordrheinWestfalen</td>\n",
              "      <td>2013-01-05</td>\n",
              "      <td>8</td>\n",
              "      <td>8</td>\n",
              "      <td>7</td>\n",
              "      <td>8</td>\n",
              "      <td>7</td>\n",
              "      <td>6</td>\n",
              "      <td>100</td>\n",
              "      <td>94</td>\n",
              "      <td>87</td>\n",
              "      <td>1035</td>\n",
              "      <td>1034</td>\n",
              "      <td>1033</td>\n",
              "      <td>10.0</td>\n",
              "      <td>6.0</td>\n",
              "      <td>3.0</td>\n",
              "      <td>16</td>\n",
              "      <td>10</td>\n",
              "      <td>NaN</td>\n",
              "      <td>0.00</td>\n",
              "      <td>7.0</td>\n",
              "      <td>Rain</td>\n",
              "      <td>268</td>\n",
              "    </tr>\n",
              "  </tbody>\n",
              "</table>\n",
              "</div>"
            ],
            "text/plain": [
              "                 file        Date  ...  Events  WindDirDegrees\n",
              "0  NordrheinWestfalen  2013-01-01  ...    Rain             215\n",
              "1  NordrheinWestfalen  2013-01-02  ...    Rain             225\n",
              "2  NordrheinWestfalen  2013-01-03  ...    Rain             240\n",
              "3  NordrheinWestfalen  2013-01-04  ...    Rain             263\n",
              "4  NordrheinWestfalen  2013-01-05  ...    Rain             268\n",
              "\n",
              "[5 rows x 24 columns]"
            ]
          },
          "metadata": {}
        },
        {
          "output_type": "display_data",
          "data": {
            "text/html": [
              "<div>\n",
              "<style scoped>\n",
              "    .dataframe tbody tr th:only-of-type {\n",
              "        vertical-align: middle;\n",
              "    }\n",
              "\n",
              "    .dataframe tbody tr th {\n",
              "        vertical-align: top;\n",
              "    }\n",
              "\n",
              "    .dataframe thead th {\n",
              "        text-align: right;\n",
              "    }\n",
              "</style>\n",
              "<table border=\"1\" class=\"dataframe\">\n",
              "  <thead>\n",
              "    <tr style=\"text-align: right;\">\n",
              "      <th></th>\n",
              "      <th>file</th>\n",
              "      <th>Date</th>\n",
              "      <th>Max_TemperatureC</th>\n",
              "      <th>Mean_TemperatureC</th>\n",
              "      <th>Min_TemperatureC</th>\n",
              "      <th>Dew_PointC</th>\n",
              "      <th>MeanDew_PointC</th>\n",
              "      <th>Min_DewpointC</th>\n",
              "      <th>Max_Humidity</th>\n",
              "      <th>Mean_Humidity</th>\n",
              "      <th>Min_Humidity</th>\n",
              "      <th>Max_Sea_Level_PressurehPa</th>\n",
              "      <th>Mean_Sea_Level_PressurehPa</th>\n",
              "      <th>Min_Sea_Level_PressurehPa</th>\n",
              "      <th>Max_VisibilityKm</th>\n",
              "      <th>Mean_VisibilityKm</th>\n",
              "      <th>Min_VisibilitykM</th>\n",
              "      <th>Max_Wind_SpeedKm_h</th>\n",
              "      <th>Mean_Wind_SpeedKm_h</th>\n",
              "      <th>Max_Gust_SpeedKm_h</th>\n",
              "      <th>Precipitationmm</th>\n",
              "      <th>CloudCover</th>\n",
              "      <th>Events</th>\n",
              "      <th>WindDirDegrees</th>\n",
              "    </tr>\n",
              "  </thead>\n",
              "  <tbody>\n",
              "    <tr>\n",
              "      <th>count</th>\n",
              "      <td>NaN</td>\n",
              "      <td>NaN</td>\n",
              "      <td>15840</td>\n",
              "      <td>15840</td>\n",
              "      <td>15840</td>\n",
              "      <td>15840</td>\n",
              "      <td>15840</td>\n",
              "      <td>15840</td>\n",
              "      <td>15840</td>\n",
              "      <td>15840</td>\n",
              "      <td>15840</td>\n",
              "      <td>15840</td>\n",
              "      <td>15840</td>\n",
              "      <td>15840</td>\n",
              "      <td>15459</td>\n",
              "      <td>15459</td>\n",
              "      <td>15459</td>\n",
              "      <td>15840</td>\n",
              "      <td>15840</td>\n",
              "      <td>3604</td>\n",
              "      <td>15840</td>\n",
              "      <td>14667</td>\n",
              "      <td>NaN</td>\n",
              "      <td>15840</td>\n",
              "    </tr>\n",
              "    <tr>\n",
              "      <th>mean</th>\n",
              "      <td>NaN</td>\n",
              "      <td>NaN</td>\n",
              "      <td>14.6441</td>\n",
              "      <td>10.389</td>\n",
              "      <td>6.19899</td>\n",
              "      <td>8.58782</td>\n",
              "      <td>6.20581</td>\n",
              "      <td>3.62614</td>\n",
              "      <td>93.6596</td>\n",
              "      <td>74.2829</td>\n",
              "      <td>50.1586</td>\n",
              "      <td>1018.53</td>\n",
              "      <td>1015.3</td>\n",
              "      <td>1012.31</td>\n",
              "      <td>24.0576</td>\n",
              "      <td>12.2398</td>\n",
              "      <td>7.02516</td>\n",
              "      <td>22.7666</td>\n",
              "      <td>11.9722</td>\n",
              "      <td>48.8643</td>\n",
              "      <td>0.831718</td>\n",
              "      <td>5.55131</td>\n",
              "      <td>NaN</td>\n",
              "      <td>175.897</td>\n",
              "    </tr>\n",
              "    <tr>\n",
              "      <th>std</th>\n",
              "      <td>NaN</td>\n",
              "      <td>NaN</td>\n",
              "      <td>8.64601</td>\n",
              "      <td>7.37926</td>\n",
              "      <td>6.52639</td>\n",
              "      <td>6.24478</td>\n",
              "      <td>6.08677</td>\n",
              "      <td>6.12839</td>\n",
              "      <td>7.67853</td>\n",
              "      <td>13.4866</td>\n",
              "      <td>19.9602</td>\n",
              "      <td>7.78872</td>\n",
              "      <td>8.12331</td>\n",
              "      <td>8.60058</td>\n",
              "      <td>8.9768</td>\n",
              "      <td>5.06794</td>\n",
              "      <td>4.9806</td>\n",
              "      <td>8.98862</td>\n",
              "      <td>5.87284</td>\n",
              "      <td>13.027</td>\n",
              "      <td>2.51351</td>\n",
              "      <td>1.68771</td>\n",
              "      <td>NaN</td>\n",
              "      <td>101.589</td>\n",
              "    </tr>\n",
              "    <tr>\n",
              "      <th>min</th>\n",
              "      <td>NaN</td>\n",
              "      <td>NaN</td>\n",
              "      <td>-11</td>\n",
              "      <td>-13</td>\n",
              "      <td>-15</td>\n",
              "      <td>-14</td>\n",
              "      <td>-15</td>\n",
              "      <td>-73</td>\n",
              "      <td>44</td>\n",
              "      <td>30</td>\n",
              "      <td>4</td>\n",
              "      <td>976</td>\n",
              "      <td>974</td>\n",
              "      <td>970</td>\n",
              "      <td>0</td>\n",
              "      <td>0</td>\n",
              "      <td>0</td>\n",
              "      <td>3</td>\n",
              "      <td>2</td>\n",
              "      <td>21</td>\n",
              "      <td>0</td>\n",
              "      <td>0</td>\n",
              "      <td>NaN</td>\n",
              "      <td>-1</td>\n",
              "    </tr>\n",
              "    <tr>\n",
              "      <th>25%</th>\n",
              "      <td>NaN</td>\n",
              "      <td>NaN</td>\n",
              "      <td>8</td>\n",
              "      <td>4</td>\n",
              "      <td>1</td>\n",
              "      <td>4</td>\n",
              "      <td>2</td>\n",
              "      <td>-1</td>\n",
              "      <td>90.75</td>\n",
              "      <td>65</td>\n",
              "      <td>34</td>\n",
              "      <td>1014</td>\n",
              "      <td>1010</td>\n",
              "      <td>1007</td>\n",
              "      <td>14</td>\n",
              "      <td>10</td>\n",
              "      <td>3</td>\n",
              "      <td>16</td>\n",
              "      <td>8</td>\n",
              "      <td>39</td>\n",
              "      <td>0</td>\n",
              "      <td>5</td>\n",
              "      <td>NaN</td>\n",
              "      <td>80</td>\n",
              "    </tr>\n",
              "    <tr>\n",
              "      <th>50%</th>\n",
              "      <td>NaN</td>\n",
              "      <td>NaN</td>\n",
              "      <td>15</td>\n",
              "      <td>11</td>\n",
              "      <td>7</td>\n",
              "      <td>9</td>\n",
              "      <td>7</td>\n",
              "      <td>4</td>\n",
              "      <td>94</td>\n",
              "      <td>76</td>\n",
              "      <td>49</td>\n",
              "      <td>1019</td>\n",
              "      <td>1016</td>\n",
              "      <td>1013</td>\n",
              "      <td>31</td>\n",
              "      <td>11</td>\n",
              "      <td>7</td>\n",
              "      <td>21</td>\n",
              "      <td>11</td>\n",
              "      <td>48</td>\n",
              "      <td>0</td>\n",
              "      <td>6</td>\n",
              "      <td>NaN</td>\n",
              "      <td>202</td>\n",
              "    </tr>\n",
              "    <tr>\n",
              "      <th>75%</th>\n",
              "      <td>NaN</td>\n",
              "      <td>NaN</td>\n",
              "      <td>21</td>\n",
              "      <td>16</td>\n",
              "      <td>11</td>\n",
              "      <td>13</td>\n",
              "      <td>11</td>\n",
              "      <td>8</td>\n",
              "      <td>100</td>\n",
              "      <td>85</td>\n",
              "      <td>66</td>\n",
              "      <td>1024</td>\n",
              "      <td>1021</td>\n",
              "      <td>1018</td>\n",
              "      <td>31</td>\n",
              "      <td>14</td>\n",
              "      <td>10</td>\n",
              "      <td>27</td>\n",
              "      <td>14</td>\n",
              "      <td>55</td>\n",
              "      <td>0.25</td>\n",
              "      <td>7</td>\n",
              "      <td>NaN</td>\n",
              "      <td>256</td>\n",
              "    </tr>\n",
              "    <tr>\n",
              "      <th>max</th>\n",
              "      <td>NaN</td>\n",
              "      <td>NaN</td>\n",
              "      <td>39</td>\n",
              "      <td>31</td>\n",
              "      <td>24</td>\n",
              "      <td>25</td>\n",
              "      <td>20</td>\n",
              "      <td>19</td>\n",
              "      <td>100</td>\n",
              "      <td>100</td>\n",
              "      <td>100</td>\n",
              "      <td>1043</td>\n",
              "      <td>1040</td>\n",
              "      <td>1038</td>\n",
              "      <td>31</td>\n",
              "      <td>31</td>\n",
              "      <td>31</td>\n",
              "      <td>101</td>\n",
              "      <td>53</td>\n",
              "      <td>111</td>\n",
              "      <td>58.93</td>\n",
              "      <td>8</td>\n",
              "      <td>NaN</td>\n",
              "      <td>360</td>\n",
              "    </tr>\n",
              "    <tr>\n",
              "      <th>counts</th>\n",
              "      <td>15840</td>\n",
              "      <td>15840</td>\n",
              "      <td>15840</td>\n",
              "      <td>15840</td>\n",
              "      <td>15840</td>\n",
              "      <td>15840</td>\n",
              "      <td>15840</td>\n",
              "      <td>15840</td>\n",
              "      <td>15840</td>\n",
              "      <td>15840</td>\n",
              "      <td>15840</td>\n",
              "      <td>15840</td>\n",
              "      <td>15840</td>\n",
              "      <td>15840</td>\n",
              "      <td>15459</td>\n",
              "      <td>15459</td>\n",
              "      <td>15459</td>\n",
              "      <td>15840</td>\n",
              "      <td>15840</td>\n",
              "      <td>3604</td>\n",
              "      <td>15840</td>\n",
              "      <td>14667</td>\n",
              "      <td>11889</td>\n",
              "      <td>15840</td>\n",
              "    </tr>\n",
              "    <tr>\n",
              "      <th>uniques</th>\n",
              "      <td>16</td>\n",
              "      <td>990</td>\n",
              "      <td>51</td>\n",
              "      <td>45</td>\n",
              "      <td>40</td>\n",
              "      <td>40</td>\n",
              "      <td>36</td>\n",
              "      <td>40</td>\n",
              "      <td>53</td>\n",
              "      <td>71</td>\n",
              "      <td>93</td>\n",
              "      <td>67</td>\n",
              "      <td>67</td>\n",
              "      <td>69</td>\n",
              "      <td>24</td>\n",
              "      <td>32</td>\n",
              "      <td>24</td>\n",
              "      <td>44</td>\n",
              "      <td>29</td>\n",
              "      <td>47</td>\n",
              "      <td>41</td>\n",
              "      <td>9</td>\n",
              "      <td>21</td>\n",
              "      <td>362</td>\n",
              "    </tr>\n",
              "    <tr>\n",
              "      <th>missing</th>\n",
              "      <td>0</td>\n",
              "      <td>0</td>\n",
              "      <td>0</td>\n",
              "      <td>0</td>\n",
              "      <td>0</td>\n",
              "      <td>0</td>\n",
              "      <td>0</td>\n",
              "      <td>0</td>\n",
              "      <td>0</td>\n",
              "      <td>0</td>\n",
              "      <td>0</td>\n",
              "      <td>0</td>\n",
              "      <td>0</td>\n",
              "      <td>0</td>\n",
              "      <td>381</td>\n",
              "      <td>381</td>\n",
              "      <td>381</td>\n",
              "      <td>0</td>\n",
              "      <td>0</td>\n",
              "      <td>12236</td>\n",
              "      <td>0</td>\n",
              "      <td>1173</td>\n",
              "      <td>3951</td>\n",
              "      <td>0</td>\n",
              "    </tr>\n",
              "    <tr>\n",
              "      <th>missing_perc</th>\n",
              "      <td>0%</td>\n",
              "      <td>0%</td>\n",
              "      <td>0%</td>\n",
              "      <td>0%</td>\n",
              "      <td>0%</td>\n",
              "      <td>0%</td>\n",
              "      <td>0%</td>\n",
              "      <td>0%</td>\n",
              "      <td>0%</td>\n",
              "      <td>0%</td>\n",
              "      <td>0%</td>\n",
              "      <td>0%</td>\n",
              "      <td>0%</td>\n",
              "      <td>0%</td>\n",
              "      <td>2.41%</td>\n",
              "      <td>2.41%</td>\n",
              "      <td>2.41%</td>\n",
              "      <td>0%</td>\n",
              "      <td>0%</td>\n",
              "      <td>77.25%</td>\n",
              "      <td>0%</td>\n",
              "      <td>7.41%</td>\n",
              "      <td>24.94%</td>\n",
              "      <td>0%</td>\n",
              "    </tr>\n",
              "    <tr>\n",
              "      <th>types</th>\n",
              "      <td>categorical</td>\n",
              "      <td>categorical</td>\n",
              "      <td>numeric</td>\n",
              "      <td>numeric</td>\n",
              "      <td>numeric</td>\n",
              "      <td>numeric</td>\n",
              "      <td>numeric</td>\n",
              "      <td>numeric</td>\n",
              "      <td>numeric</td>\n",
              "      <td>numeric</td>\n",
              "      <td>numeric</td>\n",
              "      <td>numeric</td>\n",
              "      <td>numeric</td>\n",
              "      <td>numeric</td>\n",
              "      <td>numeric</td>\n",
              "      <td>numeric</td>\n",
              "      <td>numeric</td>\n",
              "      <td>numeric</td>\n",
              "      <td>numeric</td>\n",
              "      <td>numeric</td>\n",
              "      <td>numeric</td>\n",
              "      <td>numeric</td>\n",
              "      <td>categorical</td>\n",
              "      <td>numeric</td>\n",
              "    </tr>\n",
              "  </tbody>\n",
              "</table>\n",
              "</div>"
            ],
            "text/plain": [
              "                     file         Date  ...       Events WindDirDegrees\n",
              "count                 NaN          NaN  ...          NaN          15840\n",
              "mean                  NaN          NaN  ...          NaN        175.897\n",
              "std                   NaN          NaN  ...          NaN        101.589\n",
              "min                   NaN          NaN  ...          NaN             -1\n",
              "25%                   NaN          NaN  ...          NaN             80\n",
              "50%                   NaN          NaN  ...          NaN            202\n",
              "75%                   NaN          NaN  ...          NaN            256\n",
              "max                   NaN          NaN  ...          NaN            360\n",
              "counts              15840        15840  ...        11889          15840\n",
              "uniques                16          990  ...           21            362\n",
              "missing                 0            0  ...         3951              0\n",
              "missing_perc           0%           0%  ...       24.94%             0%\n",
              "types         categorical  categorical  ...  categorical        numeric\n",
              "\n",
              "[13 rows x 24 columns]"
            ]
          },
          "metadata": {}
        }
      ]
    },
    {
      "cell_type": "markdown",
      "metadata": {
        "id": "tO0SU4VgwMC_"
      },
      "source": [
        "#Data cleaning and feature engineering \n"
      ]
    },
    {
      "cell_type": "markdown",
      "metadata": {
        "id": "IwnwEHvWwicg"
      },
      "source": [
        "Data cleaning es el proceso de transformación de los datos en un formato el cual el modelo pueda entender. Además se eliminan datos irrelevantes, se cambia el formato de datos o se rellenan los datos faltantes. \n",
        "\n",
        "Feature engineering es el proceso de utilización de los datos para crear nuevos campos que aporten información relevante al modelo. De esta manerá será más facil que el modelo aprenda. Por ejemplo, en esta competencia se crea un campo llamado **CompetitionOpenSince** y otro llamado **CompetitionDaysOpen** utilizando otros campos provistos\n",
        "\n",
        "En primer lugar se pasa el campo **StateHoliday** a boolean\n"
      ]
    },
    {
      "cell_type": "code",
      "metadata": {
        "colab": {
          "base_uri": "https://localhost:8080/"
        },
        "id": "I04WPHYOuos7",
        "outputId": "ece28f7e-e259-41b2-ed0c-568c2942757d"
      },
      "source": [
        "train.StateHoliday \n",
        "#vemos que son 0, a, b y c entonces lo pasamos a boolean"
      ],
      "execution_count": 276,
      "outputs": [
        {
          "output_type": "execute_result",
          "data": {
            "text/plain": [
              "0          0\n",
              "1          0\n",
              "2          0\n",
              "3          0\n",
              "4          0\n",
              "          ..\n",
              "1017204    a\n",
              "1017205    a\n",
              "1017206    a\n",
              "1017207    a\n",
              "1017208    a\n",
              "Name: StateHoliday, Length: 1017209, dtype: object"
            ]
          },
          "metadata": {},
          "execution_count": 276
        }
      ]
    },
    {
      "cell_type": "code",
      "metadata": {
        "id": "hMkg3MmLuZjH"
      },
      "source": [
        "train.StateHoliday = train.StateHoliday!='0'\n",
        "test.StateHoliday = test.StateHoliday != '0'"
      ],
      "execution_count": 277,
      "outputs": []
    },
    {
      "cell_type": "markdown",
      "metadata": {
        "id": "zV6es49Ayeq4"
      },
      "source": [
        "Se crea una función para unir tablas. Luego con esta función se unen las tablas de **weather** y **state_names**"
      ]
    },
    {
      "cell_type": "code",
      "metadata": {
        "colab": {
          "base_uri": "https://localhost:8080/",
          "height": 609
        },
        "id": "whxd8U_-ve6h",
        "outputId": "975d7bae-d85a-4b25-d903-15934450d950"
      },
      "source": [
        "def join_df(left, right, left_on, right_on=None):\n",
        "    if right_on is None: right_on = left_on\n",
        "    return left.merge(right, how='left', left_on=left_on, right_on=right_on, \n",
        "                      suffixes=(\"\", \"_y\"))\n",
        "weather = join_df(weather, state_names, \"file\", \"StateName\")\n",
        "weather"
      ],
      "execution_count": 278,
      "outputs": [
        {
          "output_type": "execute_result",
          "data": {
            "text/html": [
              "<div>\n",
              "<style scoped>\n",
              "    .dataframe tbody tr th:only-of-type {\n",
              "        vertical-align: middle;\n",
              "    }\n",
              "\n",
              "    .dataframe tbody tr th {\n",
              "        vertical-align: top;\n",
              "    }\n",
              "\n",
              "    .dataframe thead th {\n",
              "        text-align: right;\n",
              "    }\n",
              "</style>\n",
              "<table border=\"1\" class=\"dataframe\">\n",
              "  <thead>\n",
              "    <tr style=\"text-align: right;\">\n",
              "      <th></th>\n",
              "      <th>file</th>\n",
              "      <th>Date</th>\n",
              "      <th>Max_TemperatureC</th>\n",
              "      <th>Mean_TemperatureC</th>\n",
              "      <th>Min_TemperatureC</th>\n",
              "      <th>Dew_PointC</th>\n",
              "      <th>MeanDew_PointC</th>\n",
              "      <th>Min_DewpointC</th>\n",
              "      <th>Max_Humidity</th>\n",
              "      <th>Mean_Humidity</th>\n",
              "      <th>Min_Humidity</th>\n",
              "      <th>Max_Sea_Level_PressurehPa</th>\n",
              "      <th>Mean_Sea_Level_PressurehPa</th>\n",
              "      <th>Min_Sea_Level_PressurehPa</th>\n",
              "      <th>Max_VisibilityKm</th>\n",
              "      <th>Mean_VisibilityKm</th>\n",
              "      <th>Min_VisibilitykM</th>\n",
              "      <th>Max_Wind_SpeedKm_h</th>\n",
              "      <th>Mean_Wind_SpeedKm_h</th>\n",
              "      <th>Max_Gust_SpeedKm_h</th>\n",
              "      <th>Precipitationmm</th>\n",
              "      <th>CloudCover</th>\n",
              "      <th>Events</th>\n",
              "      <th>WindDirDegrees</th>\n",
              "      <th>StateName</th>\n",
              "      <th>State</th>\n",
              "    </tr>\n",
              "  </thead>\n",
              "  <tbody>\n",
              "    <tr>\n",
              "      <th>0</th>\n",
              "      <td>NordrheinWestfalen</td>\n",
              "      <td>2013-01-01</td>\n",
              "      <td>8</td>\n",
              "      <td>4</td>\n",
              "      <td>2</td>\n",
              "      <td>7</td>\n",
              "      <td>5</td>\n",
              "      <td>1</td>\n",
              "      <td>94</td>\n",
              "      <td>87</td>\n",
              "      <td>65</td>\n",
              "      <td>1013</td>\n",
              "      <td>1005</td>\n",
              "      <td>1001</td>\n",
              "      <td>31.0</td>\n",
              "      <td>12.0</td>\n",
              "      <td>4.0</td>\n",
              "      <td>39</td>\n",
              "      <td>26</td>\n",
              "      <td>58.0</td>\n",
              "      <td>5.08</td>\n",
              "      <td>6.0</td>\n",
              "      <td>Rain</td>\n",
              "      <td>215</td>\n",
              "      <td>NordrheinWestfalen</td>\n",
              "      <td>NW</td>\n",
              "    </tr>\n",
              "    <tr>\n",
              "      <th>1</th>\n",
              "      <td>NordrheinWestfalen</td>\n",
              "      <td>2013-01-02</td>\n",
              "      <td>7</td>\n",
              "      <td>4</td>\n",
              "      <td>1</td>\n",
              "      <td>5</td>\n",
              "      <td>3</td>\n",
              "      <td>2</td>\n",
              "      <td>93</td>\n",
              "      <td>85</td>\n",
              "      <td>78</td>\n",
              "      <td>1028</td>\n",
              "      <td>1022</td>\n",
              "      <td>1014</td>\n",
              "      <td>31.0</td>\n",
              "      <td>14.0</td>\n",
              "      <td>10.0</td>\n",
              "      <td>24</td>\n",
              "      <td>16</td>\n",
              "      <td>NaN</td>\n",
              "      <td>0.00</td>\n",
              "      <td>6.0</td>\n",
              "      <td>Rain</td>\n",
              "      <td>225</td>\n",
              "      <td>NordrheinWestfalen</td>\n",
              "      <td>NW</td>\n",
              "    </tr>\n",
              "    <tr>\n",
              "      <th>2</th>\n",
              "      <td>NordrheinWestfalen</td>\n",
              "      <td>2013-01-03</td>\n",
              "      <td>11</td>\n",
              "      <td>8</td>\n",
              "      <td>6</td>\n",
              "      <td>10</td>\n",
              "      <td>8</td>\n",
              "      <td>4</td>\n",
              "      <td>100</td>\n",
              "      <td>93</td>\n",
              "      <td>77</td>\n",
              "      <td>1035</td>\n",
              "      <td>1030</td>\n",
              "      <td>1026</td>\n",
              "      <td>31.0</td>\n",
              "      <td>8.0</td>\n",
              "      <td>2.0</td>\n",
              "      <td>26</td>\n",
              "      <td>21</td>\n",
              "      <td>NaN</td>\n",
              "      <td>1.02</td>\n",
              "      <td>7.0</td>\n",
              "      <td>Rain</td>\n",
              "      <td>240</td>\n",
              "      <td>NordrheinWestfalen</td>\n",
              "      <td>NW</td>\n",
              "    </tr>\n",
              "    <tr>\n",
              "      <th>3</th>\n",
              "      <td>NordrheinWestfalen</td>\n",
              "      <td>2013-01-04</td>\n",
              "      <td>9</td>\n",
              "      <td>9</td>\n",
              "      <td>8</td>\n",
              "      <td>9</td>\n",
              "      <td>9</td>\n",
              "      <td>8</td>\n",
              "      <td>100</td>\n",
              "      <td>94</td>\n",
              "      <td>87</td>\n",
              "      <td>1036</td>\n",
              "      <td>1035</td>\n",
              "      <td>1034</td>\n",
              "      <td>11.0</td>\n",
              "      <td>5.0</td>\n",
              "      <td>2.0</td>\n",
              "      <td>23</td>\n",
              "      <td>14</td>\n",
              "      <td>NaN</td>\n",
              "      <td>0.25</td>\n",
              "      <td>7.0</td>\n",
              "      <td>Rain</td>\n",
              "      <td>263</td>\n",
              "      <td>NordrheinWestfalen</td>\n",
              "      <td>NW</td>\n",
              "    </tr>\n",
              "    <tr>\n",
              "      <th>4</th>\n",
              "      <td>NordrheinWestfalen</td>\n",
              "      <td>2013-01-05</td>\n",
              "      <td>8</td>\n",
              "      <td>8</td>\n",
              "      <td>7</td>\n",
              "      <td>8</td>\n",
              "      <td>7</td>\n",
              "      <td>6</td>\n",
              "      <td>100</td>\n",
              "      <td>94</td>\n",
              "      <td>87</td>\n",
              "      <td>1035</td>\n",
              "      <td>1034</td>\n",
              "      <td>1033</td>\n",
              "      <td>10.0</td>\n",
              "      <td>6.0</td>\n",
              "      <td>3.0</td>\n",
              "      <td>16</td>\n",
              "      <td>10</td>\n",
              "      <td>NaN</td>\n",
              "      <td>0.00</td>\n",
              "      <td>7.0</td>\n",
              "      <td>Rain</td>\n",
              "      <td>268</td>\n",
              "      <td>NordrheinWestfalen</td>\n",
              "      <td>NW</td>\n",
              "    </tr>\n",
              "    <tr>\n",
              "      <th>...</th>\n",
              "      <td>...</td>\n",
              "      <td>...</td>\n",
              "      <td>...</td>\n",
              "      <td>...</td>\n",
              "      <td>...</td>\n",
              "      <td>...</td>\n",
              "      <td>...</td>\n",
              "      <td>...</td>\n",
              "      <td>...</td>\n",
              "      <td>...</td>\n",
              "      <td>...</td>\n",
              "      <td>...</td>\n",
              "      <td>...</td>\n",
              "      <td>...</td>\n",
              "      <td>...</td>\n",
              "      <td>...</td>\n",
              "      <td>...</td>\n",
              "      <td>...</td>\n",
              "      <td>...</td>\n",
              "      <td>...</td>\n",
              "      <td>...</td>\n",
              "      <td>...</td>\n",
              "      <td>...</td>\n",
              "      <td>...</td>\n",
              "      <td>...</td>\n",
              "      <td>...</td>\n",
              "    </tr>\n",
              "    <tr>\n",
              "      <th>15835</th>\n",
              "      <td>Saarland</td>\n",
              "      <td>2015-09-13</td>\n",
              "      <td>21</td>\n",
              "      <td>17</td>\n",
              "      <td>12</td>\n",
              "      <td>16</td>\n",
              "      <td>14</td>\n",
              "      <td>12</td>\n",
              "      <td>100</td>\n",
              "      <td>88</td>\n",
              "      <td>68</td>\n",
              "      <td>1015</td>\n",
              "      <td>1010</td>\n",
              "      <td>1005</td>\n",
              "      <td>31.0</td>\n",
              "      <td>15.0</td>\n",
              "      <td>10.0</td>\n",
              "      <td>27</td>\n",
              "      <td>10</td>\n",
              "      <td>50.0</td>\n",
              "      <td>1.02</td>\n",
              "      <td>7.0</td>\n",
              "      <td>Rain</td>\n",
              "      <td>113</td>\n",
              "      <td>Saarland</td>\n",
              "      <td>SL</td>\n",
              "    </tr>\n",
              "    <tr>\n",
              "      <th>15836</th>\n",
              "      <td>Saarland</td>\n",
              "      <td>2015-09-14</td>\n",
              "      <td>18</td>\n",
              "      <td>14</td>\n",
              "      <td>11</td>\n",
              "      <td>15</td>\n",
              "      <td>12</td>\n",
              "      <td>7</td>\n",
              "      <td>99</td>\n",
              "      <td>85</td>\n",
              "      <td>61</td>\n",
              "      <td>1009</td>\n",
              "      <td>1005</td>\n",
              "      <td>1004</td>\n",
              "      <td>31.0</td>\n",
              "      <td>13.0</td>\n",
              "      <td>4.0</td>\n",
              "      <td>32</td>\n",
              "      <td>16</td>\n",
              "      <td>53.0</td>\n",
              "      <td>9.91</td>\n",
              "      <td>5.0</td>\n",
              "      <td>Rain-Thunderstorm</td>\n",
              "      <td>213</td>\n",
              "      <td>Saarland</td>\n",
              "      <td>SL</td>\n",
              "    </tr>\n",
              "    <tr>\n",
              "      <th>15837</th>\n",
              "      <td>Saarland</td>\n",
              "      <td>2015-09-15</td>\n",
              "      <td>16</td>\n",
              "      <td>12</td>\n",
              "      <td>9</td>\n",
              "      <td>11</td>\n",
              "      <td>8</td>\n",
              "      <td>7</td>\n",
              "      <td>93</td>\n",
              "      <td>77</td>\n",
              "      <td>62</td>\n",
              "      <td>1010</td>\n",
              "      <td>1008</td>\n",
              "      <td>1004</td>\n",
              "      <td>31.0</td>\n",
              "      <td>12.0</td>\n",
              "      <td>10.0</td>\n",
              "      <td>34</td>\n",
              "      <td>14</td>\n",
              "      <td>NaN</td>\n",
              "      <td>0.00</td>\n",
              "      <td>5.0</td>\n",
              "      <td>Rain</td>\n",
              "      <td>193</td>\n",
              "      <td>Saarland</td>\n",
              "      <td>SL</td>\n",
              "    </tr>\n",
              "    <tr>\n",
              "      <th>15838</th>\n",
              "      <td>Saarland</td>\n",
              "      <td>2015-09-16</td>\n",
              "      <td>19</td>\n",
              "      <td>15</td>\n",
              "      <td>11</td>\n",
              "      <td>16</td>\n",
              "      <td>13</td>\n",
              "      <td>10</td>\n",
              "      <td>97</td>\n",
              "      <td>90</td>\n",
              "      <td>75</td>\n",
              "      <td>1004</td>\n",
              "      <td>999</td>\n",
              "      <td>995</td>\n",
              "      <td>31.0</td>\n",
              "      <td>10.0</td>\n",
              "      <td>4.0</td>\n",
              "      <td>32</td>\n",
              "      <td>14</td>\n",
              "      <td>45.0</td>\n",
              "      <td>20.07</td>\n",
              "      <td>7.0</td>\n",
              "      <td>Rain-Thunderstorm</td>\n",
              "      <td>147</td>\n",
              "      <td>Saarland</td>\n",
              "      <td>SL</td>\n",
              "    </tr>\n",
              "    <tr>\n",
              "      <th>15839</th>\n",
              "      <td>Saarland</td>\n",
              "      <td>2015-09-17</td>\n",
              "      <td>14</td>\n",
              "      <td>13</td>\n",
              "      <td>12</td>\n",
              "      <td>14</td>\n",
              "      <td>12</td>\n",
              "      <td>10</td>\n",
              "      <td>99</td>\n",
              "      <td>92</td>\n",
              "      <td>82</td>\n",
              "      <td>1013</td>\n",
              "      <td>1005</td>\n",
              "      <td>999</td>\n",
              "      <td>31.0</td>\n",
              "      <td>14.0</td>\n",
              "      <td>8.0</td>\n",
              "      <td>27</td>\n",
              "      <td>16</td>\n",
              "      <td>47.0</td>\n",
              "      <td>6.10</td>\n",
              "      <td>6.0</td>\n",
              "      <td>Rain</td>\n",
              "      <td>202</td>\n",
              "      <td>Saarland</td>\n",
              "      <td>SL</td>\n",
              "    </tr>\n",
              "  </tbody>\n",
              "</table>\n",
              "<p>15840 rows × 26 columns</p>\n",
              "</div>"
            ],
            "text/plain": [
              "                     file        Date  ...           StateName  State\n",
              "0      NordrheinWestfalen  2013-01-01  ...  NordrheinWestfalen     NW\n",
              "1      NordrheinWestfalen  2013-01-02  ...  NordrheinWestfalen     NW\n",
              "2      NordrheinWestfalen  2013-01-03  ...  NordrheinWestfalen     NW\n",
              "3      NordrheinWestfalen  2013-01-04  ...  NordrheinWestfalen     NW\n",
              "4      NordrheinWestfalen  2013-01-05  ...  NordrheinWestfalen     NW\n",
              "...                   ...         ...  ...                 ...    ...\n",
              "15835            Saarland  2015-09-13  ...            Saarland     SL\n",
              "15836            Saarland  2015-09-14  ...            Saarland     SL\n",
              "15837            Saarland  2015-09-15  ...            Saarland     SL\n",
              "15838            Saarland  2015-09-16  ...            Saarland     SL\n",
              "15839            Saarland  2015-09-17  ...            Saarland     SL\n",
              "\n",
              "[15840 rows x 26 columns]"
            ]
          },
          "metadata": {},
          "execution_count": 278
        }
      ]
    },
    {
      "cell_type": "markdown",
      "metadata": {
        "id": "VQ0oJwW4y2Bq"
      },
      "source": [
        "Se crean los datos **Date** y **State** en la tabla de googletrend. \n",
        "\n",
        "Como se observa más adelante en googletrend uno de los estados está escrito distinto (NI en vez de HB,NI) por lo que se pasa a una forma de escritura.\n",
        "\n"
      ]
    },
    {
      "cell_type": "code",
      "metadata": {
        "id": "UaDW3MM0wIps"
      },
      "source": [
        "googletrend['Date'] = googletrend.week.str.split(' - ', expand=True)[0]\n",
        "googletrend['State'] = googletrend.file.str.split('_', expand=True)[2]"
      ],
      "execution_count": 279,
      "outputs": []
    },
    {
      "cell_type": "code",
      "metadata": {
        "colab": {
          "base_uri": "https://localhost:8080/",
          "height": 731
        },
        "id": "thf1jeUMxLBB",
        "outputId": "b159a7d0-ee1a-4e2c-9515-a8ac44c50998"
      },
      "source": [
        "bla = store_states['State'] == 'HB,NI'\n",
        "store_states[bla]"
      ],
      "execution_count": 280,
      "outputs": [
        {
          "output_type": "execute_result",
          "data": {
            "text/html": [
              "<div>\n",
              "<style scoped>\n",
              "    .dataframe tbody tr th:only-of-type {\n",
              "        vertical-align: middle;\n",
              "    }\n",
              "\n",
              "    .dataframe tbody tr th {\n",
              "        vertical-align: top;\n",
              "    }\n",
              "\n",
              "    .dataframe thead th {\n",
              "        text-align: right;\n",
              "    }\n",
              "</style>\n",
              "<table border=\"1\" class=\"dataframe\">\n",
              "  <thead>\n",
              "    <tr style=\"text-align: right;\">\n",
              "      <th></th>\n",
              "      <th>Store</th>\n",
              "      <th>State</th>\n",
              "    </tr>\n",
              "  </thead>\n",
              "  <tbody>\n",
              "    <tr>\n",
              "      <th>9</th>\n",
              "      <td>10</td>\n",
              "      <td>HB,NI</td>\n",
              "    </tr>\n",
              "    <tr>\n",
              "      <th>69</th>\n",
              "      <td>70</td>\n",
              "      <td>HB,NI</td>\n",
              "    </tr>\n",
              "    <tr>\n",
              "      <th>106</th>\n",
              "      <td>107</td>\n",
              "      <td>HB,NI</td>\n",
              "    </tr>\n",
              "    <tr>\n",
              "      <th>111</th>\n",
              "      <td>112</td>\n",
              "      <td>HB,NI</td>\n",
              "    </tr>\n",
              "    <tr>\n",
              "      <th>267</th>\n",
              "      <td>268</td>\n",
              "      <td>HB,NI</td>\n",
              "    </tr>\n",
              "    <tr>\n",
              "      <th>303</th>\n",
              "      <td>304</td>\n",
              "      <td>HB,NI</td>\n",
              "    </tr>\n",
              "    <tr>\n",
              "      <th>378</th>\n",
              "      <td>379</td>\n",
              "      <td>HB,NI</td>\n",
              "    </tr>\n",
              "    <tr>\n",
              "      <th>503</th>\n",
              "      <td>504</td>\n",
              "      <td>HB,NI</td>\n",
              "    </tr>\n",
              "    <tr>\n",
              "      <th>510</th>\n",
              "      <td>511</td>\n",
              "      <td>HB,NI</td>\n",
              "    </tr>\n",
              "    <tr>\n",
              "      <th>561</th>\n",
              "      <td>562</td>\n",
              "      <td>HB,NI</td>\n",
              "    </tr>\n",
              "    <tr>\n",
              "      <th>627</th>\n",
              "      <td>628</td>\n",
              "      <td>HB,NI</td>\n",
              "    </tr>\n",
              "    <tr>\n",
              "      <th>661</th>\n",
              "      <td>662</td>\n",
              "      <td>HB,NI</td>\n",
              "    </tr>\n",
              "    <tr>\n",
              "      <th>721</th>\n",
              "      <td>722</td>\n",
              "      <td>HB,NI</td>\n",
              "    </tr>\n",
              "    <tr>\n",
              "      <th>740</th>\n",
              "      <td>741</td>\n",
              "      <td>HB,NI</td>\n",
              "    </tr>\n",
              "    <tr>\n",
              "      <th>839</th>\n",
              "      <td>840</td>\n",
              "      <td>HB,NI</td>\n",
              "    </tr>\n",
              "    <tr>\n",
              "      <th>848</th>\n",
              "      <td>849</td>\n",
              "      <td>HB,NI</td>\n",
              "    </tr>\n",
              "    <tr>\n",
              "      <th>873</th>\n",
              "      <td>874</td>\n",
              "      <td>HB,NI</td>\n",
              "    </tr>\n",
              "    <tr>\n",
              "      <th>937</th>\n",
              "      <td>938</td>\n",
              "      <td>HB,NI</td>\n",
              "    </tr>\n",
              "    <tr>\n",
              "      <th>943</th>\n",
              "      <td>944</td>\n",
              "      <td>HB,NI</td>\n",
              "    </tr>\n",
              "    <tr>\n",
              "      <th>1052</th>\n",
              "      <td>1053</td>\n",
              "      <td>HB,NI</td>\n",
              "    </tr>\n",
              "    <tr>\n",
              "      <th>1069</th>\n",
              "      <td>1070</td>\n",
              "      <td>HB,NI</td>\n",
              "    </tr>\n",
              "    <tr>\n",
              "      <th>1086</th>\n",
              "      <td>1087</td>\n",
              "      <td>HB,NI</td>\n",
              "    </tr>\n",
              "  </tbody>\n",
              "</table>\n",
              "</div>"
            ],
            "text/plain": [
              "      Store  State\n",
              "9        10  HB,NI\n",
              "69       70  HB,NI\n",
              "106     107  HB,NI\n",
              "111     112  HB,NI\n",
              "267     268  HB,NI\n",
              "303     304  HB,NI\n",
              "378     379  HB,NI\n",
              "503     504  HB,NI\n",
              "510     511  HB,NI\n",
              "561     562  HB,NI\n",
              "627     628  HB,NI\n",
              "661     662  HB,NI\n",
              "721     722  HB,NI\n",
              "740     741  HB,NI\n",
              "839     840  HB,NI\n",
              "848     849  HB,NI\n",
              "873     874  HB,NI\n",
              "937     938  HB,NI\n",
              "943     944  HB,NI\n",
              "1052   1053  HB,NI\n",
              "1069   1070  HB,NI\n",
              "1086   1087  HB,NI"
            ]
          },
          "metadata": {},
          "execution_count": 280
        }
      ]
    },
    {
      "cell_type": "code",
      "metadata": {
        "id": "-N72JBR7xxj7"
      },
      "source": [
        "googletrend.loc[googletrend.State=='NI', \"State\"] = 'HB,NI'"
      ],
      "execution_count": 281,
      "outputs": []
    },
    {
      "cell_type": "markdown",
      "metadata": {
        "id": "Y4EpJE_syJTa"
      },
      "source": [
        "En cada tabla con el campo datetime, se pasa este dato a 4 datos que representan lo mismo.\n",
        " \n",
        "Se pasa de datetime a año, mes, semana y día. Si bien la información de estos campos es equivalente a la información del campo datetime, separar la información ayuda a detectar comportamiento cíclico/tendencias. "
      ]
    },
    {
      "cell_type": "code",
      "metadata": {
        "colab": {
          "base_uri": "https://localhost:8080/"
        },
        "id": "kquAcDctyDp4",
        "outputId": "1ceff482-38da-4415-92c0-192a60809dd4"
      },
      "source": [
        "def add_datepart(df):\n",
        "    df.Date = pd.to_datetime(df.Date)\n",
        "    df[\"Year\"] = df.Date.dt.year\n",
        "    df[\"Month\"] = df.Date.dt.month\n",
        "    df[\"Week\"] = df.Date.dt.week\n",
        "    df[\"Day\"] = df.Date.dt.day\n",
        "add_datepart(weather)\n",
        "add_datepart(googletrend)\n",
        "add_datepart(train)"
      ],
      "execution_count": 282,
      "outputs": [
        {
          "output_type": "stream",
          "name": "stderr",
          "text": [
            "/usr/local/lib/python3.7/dist-packages/ipykernel_launcher.py:5: FutureWarning: Series.dt.weekofyear and Series.dt.week have been deprecated.  Please use Series.dt.isocalendar().week instead.\n",
            "  \"\"\"\n"
          ]
        }
      ]
    },
    {
      "cell_type": "code",
      "metadata": {
        "colab": {
          "base_uri": "https://localhost:8080/"
        },
        "id": "3tIoTUkQC48u",
        "outputId": "f72e418b-f635-4f68-e0a4-31418007d0d2"
      },
      "source": [
        "add_datepart(test)"
      ],
      "execution_count": 283,
      "outputs": [
        {
          "output_type": "stream",
          "name": "stderr",
          "text": [
            "/usr/local/lib/python3.7/dist-packages/ipykernel_launcher.py:5: FutureWarning: Series.dt.weekofyear and Series.dt.week have been deprecated.  Please use Series.dt.isocalendar().week instead.\n",
            "  \"\"\"\n"
          ]
        }
      ]
    },
    {
      "cell_type": "markdown",
      "metadata": {
        "id": "q2itezXA0PXs"
      },
      "source": [
        "Se crea un dataset aparte extrayendo de googletrend la información de Alemania sin ser separada por estado."
      ]
    },
    {
      "cell_type": "code",
      "metadata": {
        "id": "FDnCoxOGzCJa"
      },
      "source": [
        "trend_de = googletrend[googletrend.file == 'Rossmann_DE']   #esto es el trend de toda alemania, el resto es por estado"
      ],
      "execution_count": 284,
      "outputs": []
    },
    {
      "cell_type": "markdown",
      "metadata": {
        "id": "WrpJsWOB05r9"
      },
      "source": [
        "Se unifican todas las tablas para obtener un data frame único"
      ]
    },
    {
      "cell_type": "code",
      "metadata": {
        "colab": {
          "base_uri": "https://localhost:8080/"
        },
        "id": "2UJ5wOPw3v9J",
        "outputId": "b5f88888-e5f6-417d-ceda-be54a5747805"
      },
      "source": [
        "store = join_df(store, store_states, \"Store\")  #junta las tablas store y store_states\n",
        "len(store[store.State.isnull()]) #despues chequea si quedo alguna con null, para ver si quedo bien hecho el join"
      ],
      "execution_count": 285,
      "outputs": [
        {
          "output_type": "execute_result",
          "data": {
            "text/plain": [
              "0"
            ]
          },
          "metadata": {},
          "execution_count": 285
        }
      ]
    },
    {
      "cell_type": "code",
      "metadata": {
        "colab": {
          "base_uri": "https://localhost:8080/"
        },
        "id": "ov5wVFWM3wLW",
        "outputId": "0a79e939-e480-4a56-bbce-f7000895db1a"
      },
      "source": [
        "joined = join_df(train, store, \"Store\")  #junta las anteriores mas la de train\n",
        "len(joined[joined.StoreType.isnull()])"
      ],
      "execution_count": 286,
      "outputs": [
        {
          "output_type": "execute_result",
          "data": {
            "text/plain": [
              "0"
            ]
          },
          "metadata": {},
          "execution_count": 286
        }
      ]
    },
    {
      "cell_type": "code",
      "metadata": {
        "colab": {
          "base_uri": "https://localhost:8080/"
        },
        "id": "B-3UpQBzDNYp",
        "outputId": "72c43881-dfa3-4b34-e429-65b70ed9fa80"
      },
      "source": [
        "joinedT = join_df(test, store, \"Store\")  #junta las anteriores mas la de test\n",
        "len(joinedT[joinedT.StoreType.isnull()])"
      ],
      "execution_count": 287,
      "outputs": [
        {
          "output_type": "execute_result",
          "data": {
            "text/plain": [
              "0"
            ]
          },
          "metadata": {},
          "execution_count": 287
        }
      ]
    },
    {
      "cell_type": "markdown",
      "metadata": {
        "id": "9WM3VWGPGzlt"
      },
      "source": [
        "En este paso se agregan los datos de googletrend. Sin embargo ya que una de las columnas de unión es state, no se unirán los datos que contiene trend_de, por lo que se realiza un merge con esta tabla en los próximos pasos.\n"
      ]
    },
    {
      "cell_type": "code",
      "metadata": {
        "colab": {
          "base_uri": "https://localhost:8080/"
        },
        "id": "adVX9tJZ5TmH",
        "outputId": "89dd64ca-9d20-41e0-e669-0cfc668d59f8"
      },
      "source": [
        "joined = join_df(joined, googletrend, [\"State\",\"Year\", \"Week\"]) #junta las anteriores mas la de googletrend\n",
        "len(joined[joined.trend.isnull()])"
      ],
      "execution_count": 288,
      "outputs": [
        {
          "output_type": "execute_result",
          "data": {
            "text/plain": [
              "0"
            ]
          },
          "metadata": {},
          "execution_count": 288
        }
      ]
    },
    {
      "cell_type": "code",
      "metadata": {
        "colab": {
          "base_uri": "https://localhost:8080/"
        },
        "id": "OUXvwa0XBNfe",
        "outputId": "fb67fceb-54e6-4451-bddb-c827d03285e4"
      },
      "source": [
        "joinedT = join_df(joinedT, googletrend, [\"State\",\"Year\", \"Week\"]) #junta las anteriores mas la de googletrend, para test\n",
        "len(joinedT[joinedT.trend.isnull()])"
      ],
      "execution_count": 289,
      "outputs": [
        {
          "output_type": "execute_result",
          "data": {
            "text/plain": [
              "0"
            ]
          },
          "metadata": {},
          "execution_count": 289
        }
      ]
    },
    {
      "cell_type": "markdown",
      "metadata": {
        "id": "Vda8-8_S3Ftd"
      },
      "source": [
        "Como se mencionó anteriormente, cuando se seleccionan aquellos datos en que el file es Rossman_DE, en el estado se va a tener algo que nunca aparece para cada uno de los sufijos con estado (NaN, 0). \n",
        "\n",
        "Cuando se realiza el merge y dado que se une por estado, aquellos que tengan Nan o 0 no van quedar. \n"
      ]
    },
    {
      "cell_type": "code",
      "metadata": {
        "colab": {
          "base_uri": "https://localhost:8080/"
        },
        "id": "Nrb4S7LOdnGw",
        "outputId": "654a8b24-e3fa-46d5-e515-0c1bba98695b"
      },
      "source": [
        "joined['file'].value_counts()"
      ],
      "execution_count": 290,
      "outputs": [
        {
          "output_type": "execute_result",
          "data": {
            "text/plain": [
              "Rossmann_DE_NW    269412\n",
              "Rossmann_DE_BY    136440\n",
              "Rossmann_DE_SH    108329\n",
              "Rossmann_DE_HE    105504\n",
              "Rossmann_DE_BE     86664\n",
              "Rossmann_DE_SN     70650\n",
              "Rossmann_DE_BW     68766\n",
              "Rossmann_DE_ST     52752\n",
              "Rossmann_DE_RP     37680\n",
              "Rossmann_DE_TH     33912\n",
              "Rossmann_DE_HH     26376\n",
              "Rossmann_DE_NI     20724\n",
              "Name: file, dtype: int64"
            ]
          },
          "metadata": {},
          "execution_count": 290
        }
      ]
    },
    {
      "cell_type": "code",
      "metadata": {
        "colab": {
          "base_uri": "https://localhost:8080/"
        },
        "id": "vz6i9dQO5ZZb",
        "outputId": "2ef378ba-1752-4898-a777-6dae6525d346"
      },
      "source": [
        "joined = joined.merge(trend_de, 'left', [\"Year\", \"Week\"], suffixes=('', '_DE'))\n",
        "print(len(joined[joined.trend_DE.isnull()]))\n",
        "joinedT = joinedT.merge(trend_de, 'left', [\"Year\", \"Week\"], suffixes=('', '_DE'))\n",
        "print(len(joinedT[joinedT.trend_DE.isnull()]))"
      ],
      "execution_count": 291,
      "outputs": [
        {
          "output_type": "stream",
          "name": "stdout",
          "text": [
            "0\n",
            "0\n"
          ]
        }
      ]
    },
    {
      "cell_type": "code",
      "metadata": {
        "colab": {
          "base_uri": "https://localhost:8080/"
        },
        "id": "Fe9kTdb25b90",
        "outputId": "01ff4943-6460-427c-f5ef-55a49ca4f076"
      },
      "source": [
        "joined = join_df(joined, weather, [\"State\",\"Date\"]) #junta las anteriores mas la de weather\n",
        "print(len(joined[joined.Mean_TemperatureC.isnull()]))\n",
        "joinedT = join_df(joinedT, weather, [\"State\",\"Date\"]) #junta las anteriores mas la de weather\n",
        "print(len(joinedT[joinedT.Mean_TemperatureC.isnull()]))"
      ],
      "execution_count": 292,
      "outputs": [
        {
          "output_type": "stream",
          "name": "stdout",
          "text": [
            "0\n",
            "0\n"
          ]
        }
      ]
    },
    {
      "cell_type": "markdown",
      "metadata": {
        "id": "PoEB2JhU9Aoe"
      },
      "source": [
        "A continuación se rellenan los valores que se encuentren vacios para evitar problemas con NaNs. Dependiendo de la variable se rellenan con distintos valores por default. \n",
        "\n",
        "La funcion fillna reemplaza todos los valores de NaN con el año 1990 (toma como que los competidores estan desde esta fecha) y el mes 1."
      ]
    },
    {
      "cell_type": "code",
      "metadata": {
        "id": "HtgOyT7Y6Bua"
      },
      "source": [
        "joined.CompetitionOpenSinceYear = joined.CompetitionOpenSinceYear.fillna(1900).astype(np.int32)\n",
        "joined.CompetitionOpenSinceMonth = joined.CompetitionOpenSinceMonth.fillna(1).astype(np.int32)\n",
        "joined.Promo2SinceYear = joined.Promo2SinceYear.fillna(1900).astype(np.int32)\n",
        "joined.Promo2SinceWeek = joined.Promo2SinceWeek.fillna(1).astype(np.int32)\n",
        "\n",
        "joinedT.CompetitionOpenSinceYear = joinedT.CompetitionOpenSinceYear.fillna(1900).astype(np.int32)\n",
        "joinedT.CompetitionOpenSinceMonth = joinedT.CompetitionOpenSinceMonth.fillna(1).astype(np.int32)\n",
        "joinedT.Promo2SinceYear = joinedT.Promo2SinceYear.fillna(1900).astype(np.int32)\n",
        "joinedT.Promo2SinceWeek = joinedT.Promo2SinceWeek.fillna(1).astype(np.int32)"
      ],
      "execution_count": 293,
      "outputs": []
    },
    {
      "cell_type": "markdown",
      "metadata": {
        "id": "bWJ862Hq9R0z"
      },
      "source": [
        "Al igual que con el campo datetime, se utilizan los datos de las columnas **CompetitionOpenSinceYear** y **CompetitionOpenSinceMonth** para crear los campos de **CompetitionOpenSince**  y **CompetitionDaysOpen**, los cuales brindan información adicional.\n",
        "\n"
      ]
    },
    {
      "cell_type": "code",
      "metadata": {
        "id": "QkJgI6P1dPG-"
      },
      "source": [
        "joined[\"CompetitionOpenSince\"] = pd.to_datetime(dict(year=joined.CompetitionOpenSinceYear, month=joined.CompetitionOpenSinceMonth,\n",
        "day=15))\n",
        "joined[\"CompetitionDaysOpen\"] = joined.Date.subtract(joined[\"CompetitionOpenSince\"]).dt.days\n",
        "\n",
        "joinedT[\"CompetitionOpenSince\"] = pd.to_datetime(dict(year=joinedT.CompetitionOpenSinceYear, month=joinedT.CompetitionOpenSinceMonth,\n",
        "day=15))\n",
        "joinedT[\"CompetitionDaysOpen\"] = joinedT.Date.subtract(joinedT[\"CompetitionOpenSince\"]).dt.days"
      ],
      "execution_count": 295,
      "outputs": []
    },
    {
      "cell_type": "markdown",
      "metadata": {
        "id": "uiXej5eQ9U7g"
      },
      "source": [
        "Se reemplazan datos incorrectos e inválidos, por ejemplo las instancias en las que **CompetitionDaysOpen** es menor a cero.\n",
        " \n",
        "Al no haber información, para todas las filas que tienen **CompetitionOpenSinceYear** <1990, el **CompetitionDaysOpen** se pone en 0. Esto se realiza debido a la poca consistencia de los datos de **CompetitionDaysOpen** para las tiendas que tienen competidores que figuran que abrieron antes de 1990."
      ]
    },
    {
      "cell_type": "code",
      "metadata": {
        "id": "S-2IDuT18lOD"
      },
      "source": [
        "joined.loc[joined.CompetitionDaysOpen<0, \"CompetitionDaysOpen\"] = 0\n",
        "joined.loc[joined.CompetitionOpenSinceYear<1990, \"CompetitionDaysOpen\"] = 0\n",
        "\n",
        "joinedT.loc[joinedT.CompetitionDaysOpen<0, \"CompetitionDaysOpen\"] = 0\n",
        "joinedT.loc[joinedT.CompetitionOpenSinceYear<1990, \"CompetitionDaysOpen\"] = 0"
      ],
      "execution_count": 297,
      "outputs": []
    },
    {
      "cell_type": "markdown",
      "metadata": {
        "id": "yGhusjdm9XlQ"
      },
      "source": [
        "Se limita el campo **CompetitionMonthsOpen** a 2 años, es decir, a 24 meses para restringir las dimensiones de los vectores de embedding. \n"
      ]
    },
    {
      "cell_type": "code",
      "metadata": {
        "colab": {
          "base_uri": "https://localhost:8080/"
        },
        "id": "xK9kKaKC9aHh",
        "outputId": "fe190b31-2a49-4d39-9d82-6c33274315dc"
      },
      "source": [
        "joined[\"CompetitionMonthsOpen\"] = joined[\"CompetitionDaysOpen\"]//30\n",
        "joined.loc[joined.CompetitionMonthsOpen>24, \"CompetitionMonthsOpen\"] = 24\n",
        "joined.CompetitionMonthsOpen.unique()\n",
        "\n",
        "joinedT[\"CompetitionMonthsOpen\"] = joinedT[\"CompetitionDaysOpen\"]//30\n",
        "joinedT.loc[joinedT.CompetitionMonthsOpen>24, \"CompetitionMonthsOpen\"] = 24\n",
        "joinedT.CompetitionMonthsOpen.unique()"
      ],
      "execution_count": 298,
      "outputs": [
        {
          "output_type": "execute_result",
          "data": {
            "text/plain": [
              "array([24, 11,  0, 18, 19, 17, 21, 13,  9,  2, 14,  4,  6, 12,  3, 16, 10,\n",
              "       15, 20, 22,  5, 23,  7,  1,  8])"
            ]
          },
          "metadata": {},
          "execution_count": 298
        }
      ]
    },
    {
      "cell_type": "markdown",
      "metadata": {
        "id": "NBxrEHoY9cTH"
      },
      "source": [
        "Se repite lo anterior para las fechas de **Promo2**"
      ]
    },
    {
      "cell_type": "code",
      "metadata": {
        "id": "t9ZU6M5N9fGS"
      },
      "source": [
        "joined[\"Promo2Since\"] = pd.to_datetime(joined.apply(lambda x: Week(\n",
        "    x.Promo2SinceYear, x.Promo2SinceWeek).monday(), axis=1))\n",
        "joined[\"Promo2Days\"] = joined.Date.subtract(joined[\"Promo2Since\"]).dt.days\n",
        "\n",
        "joinedT[\"Promo2Since\"] = pd.to_datetime(joinedT.apply(lambda x: Week(\n",
        "    x.Promo2SinceYear, x.Promo2SinceWeek).monday(), axis=1))\n",
        "joinedT[\"Promo2Days\"] = joinedT.Date.subtract(joinedT[\"Promo2Since\"]).dt.days"
      ],
      "execution_count": 300,
      "outputs": []
    },
    {
      "cell_type": "code",
      "metadata": {
        "id": "Vkik4B0B9hcp"
      },
      "source": [
        "joined.loc[joined.Promo2Days<0, \"Promo2Days\"] = 0\n",
        "joined.loc[joined.Promo2SinceYear<1990, \"Promo2Days\"] = 0\n",
        "\n",
        "joinedT.loc[joinedT.Promo2Days<0, \"Promo2Days\"] = 0\n",
        "joinedT.loc[joinedT.Promo2SinceYear<1990, \"Promo2Days\"] = 0"
      ],
      "execution_count": 302,
      "outputs": []
    },
    {
      "cell_type": "code",
      "metadata": {
        "colab": {
          "base_uri": "https://localhost:8080/"
        },
        "id": "apcTrWdi9i8m",
        "outputId": "ce7af971-a6d7-4ce3-d932-61b42cb07a13"
      },
      "source": [
        "joined[\"Promo2Weeks\"] = joined[\"Promo2Days\"]//7\n",
        "joined.loc[joined.Promo2Weeks<0, \"Promo2Weeks\"] = 0\n",
        "joined.loc[joined.Promo2Weeks>25, \"Promo2Weeks\"] = 25\n",
        "joined.Promo2Weeks.unique()\n",
        "\n",
        "joinedT[\"Promo2Weeks\"] = joinedT[\"Promo2Days\"]//7\n",
        "joinedT.loc[joinedT.Promo2Weeks<0, \"Promo2Weeks\"] = 0\n",
        "joinedT.loc[joinedT.Promo2Weeks>25, \"Promo2Weeks\"] = 25\n",
        "joinedT.Promo2Weeks.unique()"
      ],
      "execution_count": 303,
      "outputs": [
        {
          "output_type": "execute_result",
          "data": {
            "text/plain": [
              "array([ 0, 25, 24, 15, 20, 23, 14, 19, 22, 13, 18, 21, 12, 17, 11, 16, 10,\n",
              "        9,  8])"
            ]
          },
          "metadata": {},
          "execution_count": 303
        }
      ]
    },
    {
      "cell_type": "markdown",
      "metadata": {
        "id": "EHr7lqLd9lDB"
      },
      "source": [
        "#Duraciones\n",
        "\n",
        "Cuando se trabaja con datos relacionados a series de tiempo es útil extraer información que explique las relaciones entre filas en vez de columnas como se hace generalmente. Por ejemplo:  \n",
        "\n",
        "*   Media móvil\n",
        "*   Tiempo hasta el próximo evento\n",
        "*   Tiempo desde el último evento\n",
        "\n",
        "Para facilitar estos análisis se crea una clase que permite manipular este tipo de datos."
      ]
    },
    {
      "cell_type": "code",
      "metadata": {
        "id": "_6EfwXZABMME"
      },
      "source": [
        "columns = [\"Date\", \"Store\", \"Promo\", \"StateHoliday\", \"SchoolHoliday\"]"
      ],
      "execution_count": 304,
      "outputs": []
    },
    {
      "cell_type": "markdown",
      "metadata": {
        "id": "dXO_sqyABR4A"
      },
      "source": [
        "La clase \"elapsed\" se utiliza para hacer un conteo acumulativo. Dado un campo en particular que se desee monitorear, este objeto comenzará a contar el tiempo transcurrido desde la última ocurrencia de dicho campo. Cuando ocurre nuevamente, el contador vuelve a comenzar. \n",
        "\n",
        "Cuando se inicializa, el contador mostrará NaN como resultado hasta que encuentre una ocurrencia del campo. Se resetea cada vez que cambia de store. \n"
      ]
    },
    {
      "cell_type": "code",
      "metadata": {
        "id": "uIF7DHHmBShj"
      },
      "source": [
        "class elapsed(object):\n",
        "    def __init__(self, fld):\n",
        "        self.fld = fld\n",
        "        self.last = pd.to_datetime(np.nan)\n",
        "        self.last_store = 0\n",
        "        \n",
        "    def get(self, row):\n",
        "        if row.Store != self.last_store:\n",
        "            self.last = pd.to_datetime(np.nan)\n",
        "            self.last_store = row.Store\n",
        "        if (row[self.fld]): self.last = row.Date\n",
        "        return row.Date-self.last"
      ],
      "execution_count": 305,
      "outputs": []
    },
    {
      "cell_type": "code",
      "metadata": {
        "id": "236VW_OrDWKW"
      },
      "source": [
        "df = train[columns]\n",
        "df_test = test[columns]"
      ],
      "execution_count": 306,
      "outputs": []
    },
    {
      "cell_type": "markdown",
      "metadata": {
        "id": "Xkgt6YhKDbAO"
      },
      "source": [
        "Se crea una función para aplicar dicha clase en el dataframe agregando los valores a nuevas columnas."
      ]
    },
    {
      "cell_type": "code",
      "metadata": {
        "id": "jB5YKblJDqgR"
      },
      "source": [
        "def add_elapsed(fld, prefix):\n",
        "    sh_el = elapsed(fld)\n",
        "    df[prefix+fld] = df.apply(sh_el.get, axis=1)\n",
        "    df_test[prefix+fld] = df_test.apply(sh_el.get, axis=1)"
      ],
      "execution_count": 307,
      "outputs": []
    },
    {
      "cell_type": "markdown",
      "metadata": {
        "id": "iEDdpk_NDvA1"
      },
      "source": [
        "Por ejemplo, al tratar con el campo **School Holiday**, primero se ordena por **Store** despues por **Date** y se utiliza la función add_elapsed('SchoolHoliday', 'After'). \n",
        "\n",
        "Esto genera una instancia de la clase elapsed para el campo **SchoolHoliday**. Se aplica a cada fila del dataframe ordenado por **Store** y **Date**. Se agrega al dataframe la cantidad de días que pasaron desde el último **SchoolHoliday**. Si en lugar de 'After' se utiliza 'Before' se contarán los días que faltan para el próximo **SchoolHoliday**. "
      ]
    },
    {
      "cell_type": "code",
      "metadata": {
        "id": "9rPSaSDID_Ne"
      },
      "source": [
        "fld = 'SchoolHoliday'\n",
        "df = df.sort_values(['Store', 'Date'])\n",
        "df_test = df_test.sort_values(['Store', 'Date'])\n",
        "add_elapsed(fld, 'After')\n",
        "\n",
        "df = df.sort_values(['Store', 'Date'], ascending=[True, False])\n",
        "df_test = df_test.sort_values(['Store', 'Date'], ascending=[True, False])\n",
        "add_elapsed(fld, 'Before')"
      ],
      "execution_count": 308,
      "outputs": []
    },
    {
      "cell_type": "markdown",
      "metadata": {
        "id": "yHtWDLMPEBQS"
      },
      "source": [
        "Se repite lo mismo para **StateHoliday** y **Promo**."
      ]
    },
    {
      "cell_type": "code",
      "metadata": {
        "id": "xyVU6mx2EDQh"
      },
      "source": [
        "fld = 'StateHoliday'\n",
        "df = df.sort_values(['Store', 'Date'])\n",
        "df_test = df_test.sort_values(['Store', 'Date'])\n",
        "add_elapsed(fld, 'After')\n",
        "\n",
        "df = df.sort_values(['Store', 'Date'], ascending=[True, False])\n",
        "df_test = df_test.sort_values(['Store', 'Date'], ascending=[True, False])\n",
        "add_elapsed(fld, 'Before')"
      ],
      "execution_count": 309,
      "outputs": []
    },
    {
      "cell_type": "code",
      "metadata": {
        "id": "nZb6NZ5PEFIz"
      },
      "source": [
        "fld = 'Promo'\n",
        "df = df.sort_values(['Store', 'Date'])\n",
        "df_test = df_test.sort_values(['Store', 'Date'])\n",
        "add_elapsed(fld, 'After')\n",
        "\n",
        "df = df.sort_values(['Store', 'Date'], ascending=[True, False])\n",
        "df_test = df_test.sort_values(['Store', 'Date'], ascending=[True, False])\n",
        "add_elapsed(fld, 'Before')"
      ],
      "execution_count": 310,
      "outputs": []
    },
    {
      "cell_type": "markdown",
      "metadata": {
        "id": "FSD5MlYPEG3v"
      },
      "source": [
        "Se setea la fecha (campo **Date**) como índice para poder implementar funciones como la media móvil. "
      ]
    },
    {
      "cell_type": "code",
      "metadata": {
        "id": "E94fBgMCEIhd"
      },
      "source": [
        "df = df.set_index(\"Date\")\n",
        "df_test = df_test.set_index(\"Date\")"
      ],
      "execution_count": 311,
      "outputs": []
    },
    {
      "cell_type": "markdown",
      "metadata": {
        "id": "YyCM4NnTEK4m"
      },
      "source": [
        "Se cambian los valores de NaN a 0 en los campos calculados con la clase elapsed. "
      ]
    },
    {
      "cell_type": "code",
      "metadata": {
        "id": "BqWRQcU5EOOU"
      },
      "source": [
        "columns = ['SchoolHoliday', 'StateHoliday', 'Promo']"
      ],
      "execution_count": 313,
      "outputs": []
    },
    {
      "cell_type": "code",
      "metadata": {
        "id": "X6WBVm6eEU5q"
      },
      "source": [
        "for o in ['Before', 'After']:\n",
        "    for p in columns:\n",
        "        a = o+p\n",
        "        df[a] = df[a].fillna(pd.Timedelta(0)).dt.days\n",
        "        df_test[a] = df_test[a].fillna(pd.Timedelta(0)).dt.days"
      ],
      "execution_count": 314,
      "outputs": []
    },
    {
      "cell_type": "markdown",
      "metadata": {
        "id": "Gf2zgh4mFLmN"
      },
      "source": [
        "Se ordena según **Date** y se agrupa según **Store**. \n",
        "\n",
        "Se reemplazan los valores de la columna **SchoolHoliday** (contenía ceros o unos según si era o no un feriado escolar) para demostrar cuantos días pasaron desde el último feriado escolar. \n",
        "\n",
        "Luego se realiza lo mismo en el sentido contrario (mostrar cuantos días faltan para el próximo feriado) y para el resto de los campos trabajados. "
      ]
    },
    {
      "cell_type": "code",
      "metadata": {
        "id": "d9rCDyXbFJ14"
      },
      "source": [
        "bwd = df[['Store']+columns].sort_index().groupby(\"Store\").rolling(7, min_periods=1).sum()\n",
        "bwd.head(15)\n",
        "bwd_test = df_test[['Store']+columns].sort_index().groupby(\"Store\").rolling(7, min_periods=1).sum()"
      ],
      "execution_count": 315,
      "outputs": []
    },
    {
      "cell_type": "code",
      "metadata": {
        "id": "3UqTxus5FQgi"
      },
      "source": [
        "fwd = df[['Store']+columns].sort_index(ascending=False).groupby(\"Store\").rolling(7, min_periods=1).sum()\n",
        "fwd.head(15) \n",
        "\n",
        "fwd_test = df_test[['Store']+columns].sort_index(ascending=False).groupby(\"Store\").rolling(7, min_periods=1).sum()\n"
      ],
      "execution_count": 316,
      "outputs": []
    },
    {
      "cell_type": "markdown",
      "metadata": {
        "id": "YjebWKUSFX6N"
      },
      "source": [
        "Se eliminan los índices utilizados para agrupar por **Store**."
      ]
    },
    {
      "cell_type": "code",
      "metadata": {
        "id": "bEXFl4KkFwWs"
      },
      "source": [
        "bwd.drop('Store',1,inplace=True)\n",
        "bwd.reset_index(inplace=True)\n",
        "bwd.head(15)\n",
        "\n",
        "bwd_test.drop('Store',1,inplace=True)\n",
        "bwd_test.reset_index(inplace=True)\n",
        "#bwd_test.head(15)"
      ],
      "execution_count": 317,
      "outputs": []
    },
    {
      "cell_type": "code",
      "metadata": {
        "id": "_ga3yOAQFyY6"
      },
      "source": [
        "fwd.drop('Store',1,inplace=True)\n",
        "fwd.reset_index(inplace=True)\n",
        "\n",
        "fwd_test.drop('Store',1,inplace=True)\n",
        "fwd_test.reset_index(inplace=True)"
      ],
      "execution_count": 318,
      "outputs": []
    },
    {
      "cell_type": "code",
      "metadata": {
        "id": "WpyTz8hzF0Ok"
      },
      "source": [
        "df.reset_index(inplace=True)\n",
        "df_test.reset_index(inplace=True)"
      ],
      "execution_count": 319,
      "outputs": []
    },
    {
      "cell_type": "markdown",
      "metadata": {
        "id": "5-LNvIfVF2Tw"
      },
      "source": [
        "Se unen los valores obtenidos a la tabla df que contenia los datos para train."
      ]
    },
    {
      "cell_type": "code",
      "metadata": {
        "id": "tUxZr0iQF6jh"
      },
      "source": [
        "df = df.merge(bwd, 'left', ['Date', 'Store'], suffixes=['', '_bw'])\n",
        "df = df.merge(fwd, 'left', ['Date', 'Store'], suffixes=['', '_fw'])\n",
        "\n",
        "df_test = df_test.merge(bwd_test, 'left', ['Date', 'Store'], suffixes=['', '_bw'])\n",
        "df_test = df_test.merge(fwd_test, 'left', ['Date', 'Store'], suffixes=['', '_fw'])"
      ],
      "execution_count": 320,
      "outputs": []
    },
    {
      "cell_type": "code",
      "metadata": {
        "id": "1LFSYu_BF-Pu"
      },
      "source": [
        "df.drop(columns,1,inplace=True)\n",
        "df_test.drop(columns,1,inplace=True)"
      ],
      "execution_count": 321,
      "outputs": []
    },
    {
      "cell_type": "markdown",
      "metadata": {
        "id": "g9XlQKF63ZQk"
      },
      "source": [
        "Se guarda un backup de la tabla df en un archivo.csv"
      ]
    },
    {
      "cell_type": "code",
      "metadata": {
        "id": "SmqMBrr0Grhc"
      },
      "source": [
        "df.to_csv('df.csv')\n",
        "df_test.to_csv('df_test.csv')"
      ],
      "execution_count": 323,
      "outputs": []
    },
    {
      "cell_type": "code",
      "metadata": {
        "colab": {
          "base_uri": "https://localhost:8080/"
        },
        "id": "5hIK07dxGtt4",
        "outputId": "80bd781b-4095-40d9-916e-76daade3d328"
      },
      "source": [
        "df = pd.read_csv('df.csv', index_col=0)\n",
        "df_test = pd.read_csv('df_test.csv', index_col=0)"
      ],
      "execution_count": 324,
      "outputs": [
        {
          "output_type": "stream",
          "name": "stderr",
          "text": [
            "/usr/local/lib/python3.7/dist-packages/numpy/lib/arraysetops.py:580: FutureWarning: elementwise comparison failed; returning scalar instead, but in the future will perform elementwise comparison\n",
            "  mask |= (ar1 == a)\n"
          ]
        }
      ]
    },
    {
      "cell_type": "code",
      "metadata": {
        "id": "Y6ei--EYGw6g"
      },
      "source": [
        "df[\"Date\"] = pd.to_datetime(df.Date)\n",
        "df_test[\"Date\"] = pd.to_datetime(df_test.Date)"
      ],
      "execution_count": 325,
      "outputs": []
    },
    {
      "cell_type": "markdown",
      "metadata": {
        "id": "BnwnWa_b3ie5"
      },
      "source": [
        "A continuación se muestran los campos que quedan en la tabla df"
      ]
    },
    {
      "cell_type": "code",
      "metadata": {
        "colab": {
          "base_uri": "https://localhost:8080/"
        },
        "id": "6GX3qsZAGy8_",
        "outputId": "29ff2c1d-e752-403d-8851-30949441f251"
      },
      "source": [
        "print(df.columns)\n",
        "print(df_test.columns)"
      ],
      "execution_count": 327,
      "outputs": [
        {
          "output_type": "stream",
          "name": "stdout",
          "text": [
            "Index(['Date', 'Store', 'AfterSchoolHoliday', 'BeforeSchoolHoliday',\n",
            "       'AfterStateHoliday', 'BeforeStateHoliday', 'AfterPromo', 'BeforePromo',\n",
            "       'SchoolHoliday_bw', 'StateHoliday_bw', 'Promo_bw', 'SchoolHoliday_fw',\n",
            "       'StateHoliday_fw', 'Promo_fw'],\n",
            "      dtype='object')\n",
            "Index(['Date', 'Store', 'AfterSchoolHoliday', 'BeforeSchoolHoliday',\n",
            "       'AfterStateHoliday', 'BeforeStateHoliday', 'AfterPromo', 'BeforePromo',\n",
            "       'SchoolHoliday_bw', 'StateHoliday_bw', 'Promo_bw', 'SchoolHoliday_fw',\n",
            "       'StateHoliday_fw', 'Promo_fw'],\n",
            "      dtype='object')\n"
          ]
        }
      ]
    },
    {
      "cell_type": "markdown",
      "metadata": {
        "id": "X5Mn2M90LGDc"
      },
      "source": [
        "Se unen las tablas joined (la que se armó inicialmente uniendo todas las tablas de datos disponibles) y df (la tabla que contiene duraciones de las series de tiempo).\n",
        "\n",
        "Se realiza un backup nuevamente, en este caso de la tabla joined"
      ]
    },
    {
      "cell_type": "code",
      "metadata": {
        "id": "Ydos8_5gG1rv"
      },
      "source": [
        "joined = join_df(joined, df, ['Store', 'Date'])\n",
        "joinedT = join_df(joinedT, df_test, ['Store', 'Date'])"
      ],
      "execution_count": 328,
      "outputs": []
    },
    {
      "cell_type": "code",
      "metadata": {
        "id": "xl_V9cWEG7sy"
      },
      "source": [
        "joined.to_csv('joined.csv')\n",
        "joinedT.to_csv('joinedT.csv')"
      ],
      "execution_count": null,
      "outputs": []
    },
    {
      "cell_type": "markdown",
      "metadata": {
        "id": "nrgGrVQ9IKWo"
      },
      "source": [
        "Con esto se obtiene el set final de características. "
      ]
    },
    {
      "cell_type": "code",
      "metadata": {
        "colab": {
          "base_uri": "https://localhost:8080/"
        },
        "id": "hK2DAp2cG9pZ",
        "outputId": "0a593fa2-7a76-4d4e-a9e2-1f3210dfaf4b"
      },
      "source": [
        "joined = pd.read_csv('joined.csv', index_col=0)\n",
        "joined[\"Date\"] = pd.to_datetime(joined.Date)\n",
        "print(joined.columns)\n",
        "\n",
        "joinedT = pd.read_csv('joinedT.csv', index_col=0)\n",
        "joinedT[\"Date\"] = pd.to_datetime(joinedT.Date)\n",
        "print(joinedT.columns)"
      ],
      "execution_count": 330,
      "outputs": [
        {
          "output_type": "stream",
          "name": "stderr",
          "text": [
            "/usr/local/lib/python3.7/dist-packages/numpy/lib/arraysetops.py:580: FutureWarning: elementwise comparison failed; returning scalar instead, but in the future will perform elementwise comparison\n",
            "  mask |= (ar1 == a)\n"
          ]
        },
        {
          "output_type": "stream",
          "name": "stdout",
          "text": [
            "Index(['Store', 'DayOfWeek', 'Date', 'Sales', 'Customers', 'Open', 'Promo',\n",
            "       'StateHoliday', 'SchoolHoliday', 'Year', 'Month', 'Week', 'Day',\n",
            "       'StoreType', 'Assortment', 'CompetitionDistance',\n",
            "       'CompetitionOpenSinceMonth', 'CompetitionOpenSinceYear', 'Promo2',\n",
            "       'Promo2SinceWeek', 'Promo2SinceYear', 'PromoInterval', 'State', 'file',\n",
            "       'week', 'trend', 'Date_y', 'Month_y', 'Day_y', 'file_DE', 'week_DE',\n",
            "       'trend_DE', 'Date_DE', 'State_DE', 'Month_DE', 'Day_DE', 'file_y',\n",
            "       'Max_TemperatureC', 'Mean_TemperatureC', 'Min_TemperatureC',\n",
            "       'Dew_PointC', 'MeanDew_PointC', 'Min_DewpointC', 'Max_Humidity',\n",
            "       'Mean_Humidity', 'Min_Humidity', 'Max_Sea_Level_PressurehPa',\n",
            "       'Mean_Sea_Level_PressurehPa', 'Min_Sea_Level_PressurehPa',\n",
            "       'Max_VisibilityKm', 'Mean_VisibilityKm', 'Min_VisibilitykM',\n",
            "       'Max_Wind_SpeedKm_h', 'Mean_Wind_SpeedKm_h', 'Max_Gust_SpeedKm_h',\n",
            "       'Precipitationmm', 'CloudCover', 'Events', 'WindDirDegrees',\n",
            "       'StateName', 'Year_y', 'Month_y.1', 'Week_y', 'Day_y.1',\n",
            "       'CompetitionOpenSince', 'CompetitionDaysOpen', 'CompetitionMonthsOpen',\n",
            "       'Promo2Since', 'Promo2Days', 'Promo2Weeks', 'AfterSchoolHoliday',\n",
            "       'BeforeSchoolHoliday', 'AfterStateHoliday', 'BeforeStateHoliday',\n",
            "       'AfterPromo', 'BeforePromo', 'SchoolHoliday_bw', 'StateHoliday_bw',\n",
            "       'Promo_bw', 'SchoolHoliday_fw', 'StateHoliday_fw', 'Promo_fw'],\n",
            "      dtype='object')\n",
            "Index(['Id', 'Store', 'DayOfWeek', 'Date', 'Open', 'Promo', 'StateHoliday',\n",
            "       'SchoolHoliday', 'Year', 'Month', 'Week', 'Day', 'StoreType',\n",
            "       'Assortment', 'CompetitionDistance', 'CompetitionOpenSinceMonth',\n",
            "       'CompetitionOpenSinceYear', 'Promo2', 'Promo2SinceWeek',\n",
            "       'Promo2SinceYear', 'PromoInterval', 'State', 'file', 'week', 'trend',\n",
            "       'Date_y', 'Month_y', 'Day_y', 'file_DE', 'week_DE', 'trend_DE',\n",
            "       'Date_DE', 'State_DE', 'Month_DE', 'Day_DE', 'file_y',\n",
            "       'Max_TemperatureC', 'Mean_TemperatureC', 'Min_TemperatureC',\n",
            "       'Dew_PointC', 'MeanDew_PointC', 'Min_DewpointC', 'Max_Humidity',\n",
            "       'Mean_Humidity', 'Min_Humidity', 'Max_Sea_Level_PressurehPa',\n",
            "       'Mean_Sea_Level_PressurehPa', 'Min_Sea_Level_PressurehPa',\n",
            "       'Max_VisibilityKm', 'Mean_VisibilityKm', 'Min_VisibilitykM',\n",
            "       'Max_Wind_SpeedKm_h', 'Mean_Wind_SpeedKm_h', 'Max_Gust_SpeedKm_h',\n",
            "       'Precipitationmm', 'CloudCover', 'Events', 'WindDirDegrees',\n",
            "       'StateName', 'Year_y', 'Month_y.1', 'Week_y', 'Day_y.1',\n",
            "       'CompetitionOpenSince', 'CompetitionDaysOpen', 'CompetitionMonthsOpen',\n",
            "       'Promo2Since', 'Promo2Days', 'Promo2Weeks', 'AfterSchoolHoliday',\n",
            "       'BeforeSchoolHoliday', 'AfterStateHoliday', 'BeforeStateHoliday',\n",
            "       'AfterPromo', 'BeforePromo', 'SchoolHoliday_bw', 'StateHoliday_bw',\n",
            "       'Promo_bw', 'SchoolHoliday_fw', 'StateHoliday_fw', 'Promo_fw'],\n",
            "      dtype='object')\n"
          ]
        }
      ]
    },
    {
      "cell_type": "markdown",
      "metadata": {
        "id": "fZCBBuAuJa8E"
      },
      "source": [
        "#Create features\n",
        "Una vez realizado el feature engineering, se tiene que convertir el input a un formato compatible para la red neuronal. Esto implica convertir las variables categóricas en distintos integers o one-hot vectors y normalizar las variables contínuas restando la media y dividiendo por el desvío estándar.\n",
        "\n"
      ]
    },
    {
      "cell_type": "code",
      "metadata": {
        "id": "vQhnDBZdJkJ2"
      },
      "source": [
        "from sklearn_pandas import DataFrameMapper\n",
        "#!pip install sklearn\n",
        "from sklearn.preprocessing import LabelEncoder, StandardScaler\n"
      ],
      "execution_count": 332,
      "outputs": []
    },
    {
      "cell_type": "markdown",
      "metadata": {
        "id": "jCz5pP5VJnSM"
      },
      "source": [
        "Se define un diccionario que mapea las distintas categorías con la dimensión de su vector de embedding. Generalmente las categorías más complejas tienen dimensiones más grandes."
      ]
    },
    {
      "cell_type": "code",
      "metadata": {
        "id": "6BZYAnO_JpYD"
      },
      "source": [
        "cat_var_dict = {'Store': 50, 'DayOfWeek': 6, 'Year': 2, 'Month': 6,\n",
        "'Day': 10, 'StateHoliday': 3, 'CompetitionMonthsOpen': 2,\n",
        "'Promo2Weeks': 1, 'StoreType': 2, 'Assortment': 3, 'PromoInterval': 3,\n",
        "'CompetitionOpenSinceYear': 4, 'Promo2SinceYear': 4, 'State': 6,\n",
        "'Week': 2, 'Events': 4, 'Promo_fw': 1,\n",
        "'Promo_bw': 1, 'StateHoliday_fw': 1,\n",
        "'StateHoliday_bw': 1, 'SchoolHoliday_fw': 1,\n",
        "'SchoolHoliday_bw': 1}\n",
        "\n",
        "cat_var_dict_test = {'Store': 50, 'DayOfWeek': 6, 'Year': 2, 'Month': 6,\n",
        "'Day': 10, 'StateHoliday': 3, 'CompetitionMonthsOpen': 2,\n",
        "'Promo2Weeks': 1, 'StoreType': 2, 'Assortment': 3, 'PromoInterval': 3,\n",
        "'CompetitionOpenSinceYear': 4, 'Promo2SinceYear': 4, 'State': 6,\n",
        "'Week': 2, 'Events': 4, 'Promo_fw': 1,\n",
        "'Promo_bw': 1, 'StateHoliday_fw': 1,\n",
        "'StateHoliday_bw': 1, 'SchoolHoliday_fw': 1,\n",
        "'SchoolHoliday_bw': 1}"
      ],
      "execution_count": 333,
      "outputs": []
    },
    {
      "cell_type": "code",
      "metadata": {
        "id": "F6HoMbSHJtve"
      },
      "source": [
        "cat_vars = [o[0] for o in sorted(cat_var_dict.items(), key=operator.itemgetter(1), reverse=True)]\n",
        "cat_vars_test = [o[0] for o in sorted(cat_var_dict_test.items(), key=operator.itemgetter(1), reverse=True)]"
      ],
      "execution_count": 334,
      "outputs": []
    },
    {
      "cell_type": "markdown",
      "metadata": {
        "id": "cks-gEnkJwh1"
      },
      "source": [
        "Se realiza el mismo procedimiento para las variables continuas."
      ]
    },
    {
      "cell_type": "code",
      "metadata": {
        "id": "z8jCr80tJywY"
      },
      "source": [
        "# mean/max wind; min temp; cloud; min/mean humid; \n",
        "contin_vars = ['CompetitionDistance', \n",
        "   'Max_TemperatureC', 'Mean_TemperatureC', 'Min_TemperatureC',\n",
        "   'Max_Humidity', 'Mean_Humidity', 'Min_Humidity', 'Max_Wind_SpeedKm_h', \n",
        "   'Mean_Wind_SpeedKm_h', 'CloudCover', 'trend', 'trend_DE',\n",
        "   'AfterStateHoliday', 'BeforeStateHoliday', 'Promo', 'SchoolHoliday']\n",
        "\n",
        "contin_vars_test = ['CompetitionDistance', \n",
        "   'Max_TemperatureC', 'Mean_TemperatureC', 'Min_TemperatureC',\n",
        "   'Max_Humidity', 'Mean_Humidity', 'Min_Humidity', 'Max_Wind_SpeedKm_h', \n",
        "   'Mean_Wind_SpeedKm_h', 'CloudCover', 'trend', 'trend_DE',\n",
        "   'AfterStateHoliday', 'BeforeStateHoliday', 'Promo', 'SchoolHoliday']"
      ],
      "execution_count": 335,
      "outputs": []
    },
    {
      "cell_type": "markdown",
      "metadata": {
        "id": "JYbta8vJJ1Ea"
      },
      "source": [
        "Se reemplazan los valores nulos con 0 para las variables continuas y ' ' para las categoricas. "
      ]
    },
    {
      "cell_type": "code",
      "metadata": {
        "id": "5P59LMS1J3fQ"
      },
      "source": [
        "for v in contin_vars: joined.loc[joined[v].isnull(), v] = 0\n",
        "for v in cat_vars: joined.loc[joined[v].isnull(), v] = \"\"\n",
        "\n",
        "for v in contin_vars_test: joinedT.loc[joinedT[v].isnull(), v] = 0\n",
        "for v in cat_vars_test: joinedT.loc[joinedT[v].isnull(), v] = \"\""
      ],
      "execution_count": 336,
      "outputs": []
    },
    {
      "cell_type": "markdown",
      "metadata": {
        "id": "b_U0GkjRJ55h"
      },
      "source": [
        "Se crea una lista de tuplas que contiene una variable y la transformación de pre-pocesamiento que se le va a aplicar a cada variable.\n",
        "\n",
        "Para las variables categóricas se le aplicará un LaberEncoder() que mapea las categorías a enteros consecutivos (si son 5 clases mapeará a 0,1,2,3,4). A las variables continuas se les aplicará un StandardScaler que las normaliza (resta la media y divide por el desvío standard).\n",
        "\n"
      ]
    },
    {
      "cell_type": "code",
      "metadata": {
        "id": "vnxVC9ewJ8PO"
      },
      "source": [
        "cat_maps = [(o, LabelEncoder()) for o in cat_vars]\n",
        "contin_maps = [([o], StandardScaler()) for o in contin_vars]\n",
        "\n",
        "cat_maps_test = [(o, LabelEncoder()) for o in cat_vars_test]\n",
        "contin_maps_test = [([o], StandardScaler()) for o in contin_vars_test]"
      ],
      "execution_count": 337,
      "outputs": []
    },
    {
      "cell_type": "markdown",
      "metadata": {
        "id": "YS12qMhgKD85"
      },
      "source": [
        "Se crea un DataFrameMapper que recibe las tuplas con nombre de columna y la transformación de preprocesamiento que se debe aplicar y se fitea para generar el modelo. Esto se aplicará por separado para las variables categóricas y continuas.\n",
        "\n",
        "Se debe realizar el mismo procedimiento para el set de datos de test."
      ]
    },
    {
      "cell_type": "code",
      "metadata": {
        "colab": {
          "base_uri": "https://localhost:8080/"
        },
        "id": "slmbIjXVKGER",
        "outputId": "69a8d266-c004-4361-f090-6359b518b7a8"
      },
      "source": [
        "cat_mapper = DataFrameMapper(cat_maps)\n",
        "cat_map_fit = cat_mapper.fit(joined)\n",
        "cat_cols = len(cat_map_fit.features)\n",
        "print(cat_cols)\n",
        "\n",
        "cat_mapper_test = DataFrameMapper(cat_maps_test)\n",
        "cat_map_fit_test = cat_mapper_test.fit(joinedT)\n",
        "cat_cols_test = len(cat_map_fit_test.features)\n",
        "print(cat_cols_test)"
      ],
      "execution_count": 338,
      "outputs": [
        {
          "output_type": "stream",
          "name": "stdout",
          "text": [
            "22\n",
            "22\n"
          ]
        }
      ]
    },
    {
      "cell_type": "code",
      "metadata": {
        "colab": {
          "base_uri": "https://localhost:8080/"
        },
        "id": "gjAdPl0fKH59",
        "outputId": "58eb73cd-1187-4da1-bce0-ad1caaba33ef"
      },
      "source": [
        "contin_mapper = DataFrameMapper(contin_maps)\n",
        "contin_map_fit = contin_mapper.fit(joined)\n",
        "contin_cols = len(contin_map_fit.features)\n",
        "print(contin_cols)\n",
        "\n",
        "contin_mapper_test = DataFrameMapper(contin_maps_test)\n",
        "contin_map_fit_test = contin_mapper_test.fit(joinedT)\n",
        "contin_cols_test = len(contin_map_fit_test.features)\n",
        "print(contin_cols_test)"
      ],
      "execution_count": 339,
      "outputs": [
        {
          "output_type": "stream",
          "name": "stdout",
          "text": [
            "16\n",
            "16\n"
          ]
        }
      ]
    },
    {
      "cell_type": "markdown",
      "metadata": {
        "id": "0cZ_czvsKLX4"
      },
      "source": [
        "Se observa un ejemplo de cómo quedan los vectores de una variable de cada tipo:"
      ]
    },
    {
      "cell_type": "code",
      "metadata": {
        "colab": {
          "base_uri": "https://localhost:8080/"
        },
        "id": "OfqaVym8KNsp",
        "outputId": "9673d4ef-5595-483e-81f1-6a6711cbaa0c"
      },
      "source": [
        "cat_map_fit.transform(joined)[0,:5]\n",
        "\n",
        "cat_map_fit_test.transform(joinedT)[0,:5]"
      ],
      "execution_count": 340,
      "outputs": [
        {
          "output_type": "execute_result",
          "data": {
            "text/plain": [
              "array([ 0, 16,  3,  1,  3])"
            ]
          },
          "metadata": {},
          "execution_count": 340
        }
      ]
    },
    {
      "cell_type": "code",
      "metadata": {
        "id": "5EC24LDTKSs1"
      },
      "source": [
        "pickle.dump(contin_map_fit, open('contin_maps.pickle', 'wb'))\n",
        "pickle.dump(cat_map_fit, open('cat_maps.pickle', 'wb'))\n",
        "\n",
        "pickle.dump(contin_map_fit_test, open('contin_maps.pickle', 'wb'))\n",
        "pickle.dump(cat_map_fit_test, open('cat_maps.pickle', 'wb'))"
      ],
      "execution_count": 341,
      "outputs": []
    },
    {
      "cell_type": "code",
      "metadata": {
        "colab": {
          "base_uri": "https://localhost:8080/"
        },
        "id": "6iW9-D8EKUoS",
        "outputId": "913c4ebe-3d2c-46ae-bd07-54e534a94329"
      },
      "source": [
        "print([len(o[1].classes_) for o in cat_map_fit.features])\n",
        "print([len(o[1].classes_) for o in cat_map_fit_test.features])"
      ],
      "execution_count": 342,
      "outputs": [
        {
          "output_type": "stream",
          "name": "stdout",
          "text": [
            "[1115, 31, 7, 12, 12, 23, 8, 22, 2, 3, 4, 3, 25, 4, 52, 26, 6, 6, 8, 8, 8, 8]\n",
            "[856, 31, 7, 2, 8, 23, 8, 8, 2, 3, 4, 1, 25, 4, 8, 19, 6, 6, 2, 2, 8, 8]\n"
          ]
        }
      ]
    },
    {
      "cell_type": "markdown",
      "metadata": {
        "id": "IVhwFCWaKXwA"
      },
      "source": [
        "#Sample data\n",
        "Se eliminan los casos en los que la tienda estaba cerrada o no tuvo ventas. "
      ]
    },
    {
      "cell_type": "code",
      "metadata": {
        "id": "GlYXnGpFKbml"
      },
      "source": [
        "joined_sales = joined[joined.Sales!=0]\n",
        "n = len(joined_sales)"
      ],
      "execution_count": 343,
      "outputs": []
    },
    {
      "cell_type": "markdown",
      "metadata": {
        "id": "Te1FgtKaKeZT"
      },
      "source": [
        "Usualmente, antes y despues de un periodo de tiempo en el que la tienda esté cerrada, se da un aumento en las ventas, para prepararse para dicho periodo de cierre o para compensar la falta de los productos durante dicho periodo.\n",
        "\n",
        "Debido a esto, eliminar los datos que corresponden a un cierre de la tienda puede perjudicar la performance del modelo al momento de predecir el comportamiento en momentos cercanos a un cierre. "
      ]
    },
    {
      "cell_type": "code",
      "metadata": {
        "colab": {
          "base_uri": "https://localhost:8080/"
        },
        "id": "UbzS6CT3Kgpl",
        "outputId": "886274e0-aeda-497d-8869-bf10f2525d0c"
      },
      "source": [
        "n"
      ],
      "execution_count": 344,
      "outputs": [
        {
          "output_type": "execute_result",
          "data": {
            "text/plain": [
              "844338"
            ]
          },
          "metadata": {},
          "execution_count": 344
        }
      ]
    },
    {
      "cell_type": "markdown",
      "metadata": {
        "id": "_4W6FM5tKi6z"
      },
      "source": [
        "Se prueba con una muestra. "
      ]
    },
    {
      "cell_type": "code",
      "metadata": {
        "id": "MpiEAFFjKlhw"
      },
      "source": [
        "samp_size = 100000\n",
        "np.random.seed(42)\n",
        "idxs = sorted(np.random.choice(n, samp_size, replace=False))"
      ],
      "execution_count": 345,
      "outputs": []
    },
    {
      "cell_type": "code",
      "metadata": {
        "id": "q7QU1E5fKnow"
      },
      "source": [
        "joined_samp = joined_sales.iloc[idxs].set_index(\"Date\")"
      ],
      "execution_count": null,
      "outputs": []
    },
    {
      "cell_type": "code",
      "metadata": {
        "id": "LjPG40ESKnzA"
      },
      "source": [
        "samp_size = n   #pasa de hacer una prueba con una muestra a tomar todos los datos\n",
        "joined_samp = joined_sales.set_index(\"Date\")"
      ],
      "execution_count": null,
      "outputs": []
    },
    {
      "cell_type": "markdown",
      "metadata": {
        "id": "Zq1bFETdKs45"
      },
      "source": [
        "Para modelos con series de tiempo, se selecciona el set de validación de acuerdo a la fecha de los datos. Se eligen los datos más recientes simulando lo que pasaría en la vida real.\n",
        "\n",
        "En este caso se toma el 10% del set de train para validar. "
      ]
    },
    {
      "cell_type": "code",
      "metadata": {
        "id": "H8yAtNmsKwO_"
      },
      "source": [
        "train_ratio = 0.9\n",
        "train_size = int(samp_size * train_ratio)"
      ],
      "execution_count": 348,
      "outputs": []
    },
    {
      "cell_type": "code",
      "metadata": {
        "colab": {
          "base_uri": "https://localhost:8080/"
        },
        "id": "H8pNiTrjKy9u",
        "outputId": "7c1665d6-ed22-4c92-eb0f-55ace8c296b8"
      },
      "source": [
        "train_size"
      ],
      "execution_count": 349,
      "outputs": [
        {
          "output_type": "execute_result",
          "data": {
            "text/plain": [
              "759904"
            ]
          },
          "metadata": {},
          "execution_count": 349
        }
      ]
    },
    {
      "cell_type": "code",
      "metadata": {
        "colab": {
          "base_uri": "https://localhost:8080/"
        },
        "id": "uEZ3ZoX9K2eP",
        "outputId": "edca7f81-19ec-4241-b7f8-a8423e7bca3c"
      },
      "source": [
        "joined_valid = joined_samp[train_size:]\n",
        "joined_train = joined_samp[:train_size]\n",
        "len(joined_valid), len(joined_train)"
      ],
      "execution_count": 350,
      "outputs": [
        {
          "output_type": "execute_result",
          "data": {
            "text/plain": [
              "(84434, 759904)"
            ]
          },
          "metadata": {},
          "execution_count": 350
        }
      ]
    },
    {
      "cell_type": "markdown",
      "metadata": {
        "id": "97Kbbr3lK502"
      },
      "source": [
        "Con esta función se preprocesan las variables categóricas."
      ]
    },
    {
      "cell_type": "code",
      "metadata": {
        "id": "V3GM-XzYK9Bi"
      },
      "source": [
        "def cat_preproc(dat):\n",
        "    return cat_map_fit.transform(dat).astype(np.int64)"
      ],
      "execution_count": 351,
      "outputs": []
    },
    {
      "cell_type": "code",
      "metadata": {
        "id": "bUaoHA82NET6"
      },
      "source": [
        "def cat_preproc_test(dat):\n",
        "    return cat_map_fit_test.transform(dat).astype(np.int64)"
      ],
      "execution_count": 352,
      "outputs": []
    },
    {
      "cell_type": "code",
      "metadata": {
        "id": "k5ZdDL0yK-67"
      },
      "source": [
        "cat_map_train = cat_preproc(joined_train)\n",
        "cat_map_valid = cat_preproc(joined_valid)\n",
        "cat_map_test = cat_preproc_test(joinedT)"
      ],
      "execution_count": 353,
      "outputs": []
    },
    {
      "cell_type": "markdown",
      "metadata": {
        "id": "3-9NaR_4LAwa"
      },
      "source": [
        "Se hace lo mismo para las variables continuas. \n"
      ]
    },
    {
      "cell_type": "code",
      "metadata": {
        "id": "QOhdA9dmLC9d"
      },
      "source": [
        "def contin_preproc(dat):\n",
        "    return contin_map_fit.transform(dat).astype(np.float32)\n",
        "def contin_preproc_test(dat):\n",
        "    return contin_map_fit_test.transform(dat).astype(np.float32)"
      ],
      "execution_count": 354,
      "outputs": []
    },
    {
      "cell_type": "code",
      "metadata": {
        "id": "obtMu7J5LE6d"
      },
      "source": [
        "contin_map_train = contin_preproc(joined_train)\n",
        "contin_map_valid = contin_preproc(joined_valid)\n",
        "contin_map_test = contin_preproc_test(joinedT)"
      ],
      "execution_count": 355,
      "outputs": []
    },
    {
      "cell_type": "markdown",
      "metadata": {
        "id": "eLMOPVTBLHdw"
      },
      "source": [
        "Se toman las labels.\n"
      ]
    },
    {
      "cell_type": "code",
      "metadata": {
        "id": "uWBkauzMLK9p"
      },
      "source": [
        "y_train_orig = joined_train.Sales\n",
        "y_valid_orig = joined_valid.Sales"
      ],
      "execution_count": 356,
      "outputs": []
    },
    {
      "cell_type": "markdown",
      "metadata": {
        "id": "7YdsPjHxLNB-"
      },
      "source": [
        "Finalmente se aplica una transformación logaritmica a las labels y se las normaliza. Este tipo de transformaciones se suele hacer para este tipo de datos para obtener dimensiones mas manejables. \n",
        "\n",
        "Además al normalizar todos los valores quedarán entre 0 y 1 por lo que se puede utilizar una función de activación sigmoidea como la salida de la red. Luego podemos volver a multiplicar por el valor logarítmico maximo para obtener el valor original y volver a transformar. "
      ]
    },
    {
      "cell_type": "code",
      "metadata": {
        "id": "OXvGXwyXLPLh"
      },
      "source": [
        "max_log_y = np.max(np.log(joined_samp.Sales))\n",
        "y_train = np.log(y_train_orig)/max_log_y\n",
        "y_valid = np.log(y_valid_orig)/max_log_y"
      ],
      "execution_count": 357,
      "outputs": []
    },
    {
      "cell_type": "markdown",
      "metadata": {
        "id": "v6brqYc6LRj4"
      },
      "source": [
        "#Create models\n",
        "A continuación se crea el modelo. "
      ]
    },
    {
      "cell_type": "code",
      "metadata": {
        "id": "RllxqABxLYty"
      },
      "source": [
        "def split_cols(arr): return np.hsplit(arr,arr.shape[1])"
      ],
      "execution_count": 358,
      "outputs": []
    },
    {
      "cell_type": "code",
      "metadata": {
        "id": "FH7FT0tQLayp"
      },
      "source": [
        "map_train = split_cols(cat_map_train) + [contin_map_train]\n",
        "map_valid = split_cols(cat_map_valid) + [contin_map_valid]"
      ],
      "execution_count": 359,
      "outputs": []
    },
    {
      "cell_type": "markdown",
      "metadata": {
        "id": "kNQnhovpLc23"
      },
      "source": [
        "La siguiente función devuelve el nombre de la categoría y la dimensión. "
      ]
    },
    {
      "cell_type": "code",
      "metadata": {
        "id": "IIfLmre2Le4n"
      },
      "source": [
        "def cat_map_info(feat): return feat[0], len(feat[1].classes_)"
      ],
      "execution_count": 360,
      "outputs": []
    },
    {
      "cell_type": "markdown",
      "metadata": {
        "id": "epQFLWJALh7L"
      },
      "source": [
        "Se muestra un ejemplo de la función anterior:"
      ]
    },
    {
      "cell_type": "code",
      "metadata": {
        "colab": {
          "base_uri": "https://localhost:8080/"
        },
        "id": "R1Rl_L8ALhD6",
        "outputId": "bb83fc8e-fc81-47bb-9a90-80eb9127c8b6"
      },
      "source": [
        "cat_map_info(cat_map_fit.features[1])"
      ],
      "execution_count": 361,
      "outputs": [
        {
          "output_type": "execute_result",
          "data": {
            "text/plain": [
              "('Day', 31)"
            ]
          },
          "metadata": {},
          "execution_count": 361
        }
      ]
    },
    {
      "cell_type": "code",
      "metadata": {
        "id": "mxemi2NsLqC0"
      },
      "source": [
        "def my_init(scale):\n",
        "    return lambda shape, name=None: initializations.uniform(shape, scale=scale, name=name)"
      ],
      "execution_count": 362,
      "outputs": []
    },
    {
      "cell_type": "code",
      "metadata": {
        "id": "fHlN84ALL43F"
      },
      "source": [
        "def emb_init(shape, name=None): \n",
        "    return initializations.uniform()\n",
        "#shape, scale=2/(shape[1]+1), name=name    "
      ],
      "execution_count": 363,
      "outputs": []
    },
    {
      "cell_type": "markdown",
      "metadata": {
        "id": "WLhISl2LL7OZ"
      },
      "source": [
        "La siguiente función genera los embeddings.\n",
        "\n",
        "Además de construir los vectores de embeddings, se genera el flattening."
      ]
    },
    {
      "cell_type": "code",
      "metadata": {
        "id": "31YbrJ6uL9iU"
      },
      "source": [
        "def get_emb(feat):\n",
        "    name, c = cat_map_info(feat)\n",
        "    c2 = (c+1)//2\n",
        "    if c2>50: c2=50\n",
        "    inp = Input((1,), dtype='int64', name=name+'_in')\n",
        "    u = Flatten(name=name+'_flt')(Embedding(c, c2, input_length=1)(inp))\n",
        "    return inp,u"
      ],
      "execution_count": 364,
      "outputs": []
    },
    {
      "cell_type": "markdown",
      "metadata": {
        "id": "JxqoFvPRL_hU"
      },
      "source": [
        "La siguiente función se aplica para inputs continuos."
      ]
    },
    {
      "cell_type": "code",
      "metadata": {
        "id": "sgKoapv3MBt8"
      },
      "source": [
        "def get_contin(feat):\n",
        "    name = feat[0][0]\n",
        "    inp = Input((1,), name=name+'_in')\n",
        "    return inp, Dense(1, name=name+'_d', init=my_init(1.))(inp)"
      ],
      "execution_count": 365,
      "outputs": []
    },
    {
      "cell_type": "code",
      "metadata": {
        "id": "OIoC-QEZaJ31"
      },
      "source": [
        "from keras.layers import Input, Dense, Flatten, Embedding, merge, Dropout\n",
        "from keras import initializers as initializations\n",
        "from keras.models import Model"
      ],
      "execution_count": 366,
      "outputs": []
    },
    {
      "cell_type": "code",
      "metadata": {
        "id": "IoYAbpbDMFem"
      },
      "source": [
        "contin_inp = Input((contin_cols,), name='contin')\n",
        "contin_out = Dense(contin_cols*10, activation='relu', name='contin_d')(contin_inp)"
      ],
      "execution_count": 367,
      "outputs": []
    },
    {
      "cell_type": "markdown",
      "metadata": {
        "id": "VAfcNNKjMHow"
      },
      "source": [
        "Se define la función de root_mean_squared_error la cual evaluará la performance final del modelo"
      ]
    },
    {
      "cell_type": "code",
      "metadata": {
        "id": "ojVbeaPAM_FI"
      },
      "source": [
        "def root_mean_squared_error(y_true, y_pred):\n",
        "    return K.sqrt(K.mean(K.square(y_pred - y_true), axis=-1))"
      ],
      "execution_count": 368,
      "outputs": []
    },
    {
      "cell_type": "markdown",
      "metadata": {
        "id": "NPI92Jtu7Dhr"
      },
      "source": [
        "En la siguiente celda se mapea cada campo de variable categórica con su correspondiente preprocesado."
      ]
    },
    {
      "cell_type": "code",
      "metadata": {
        "colab": {
          "base_uri": "https://localhost:8080/"
        },
        "id": "QEih5eKbbtGH",
        "outputId": "2c0965fd-4c9e-4a83-950d-4bf65c4cd207"
      },
      "source": [
        "cat_map_fit.features"
      ],
      "execution_count": 369,
      "outputs": [
        {
          "output_type": "execute_result",
          "data": {
            "text/plain": [
              "[('Store', LabelEncoder()),\n",
              " ('Day', LabelEncoder()),\n",
              " ('DayOfWeek', LabelEncoder()),\n",
              " ('Month', LabelEncoder()),\n",
              " ('State', LabelEncoder()),\n",
              " ('CompetitionOpenSinceYear', LabelEncoder()),\n",
              " ('Promo2SinceYear', LabelEncoder()),\n",
              " ('Events', LabelEncoder()),\n",
              " ('StateHoliday', LabelEncoder()),\n",
              " ('Assortment', LabelEncoder()),\n",
              " ('PromoInterval', LabelEncoder()),\n",
              " ('Year', LabelEncoder()),\n",
              " ('CompetitionMonthsOpen', LabelEncoder()),\n",
              " ('StoreType', LabelEncoder()),\n",
              " ('Week', LabelEncoder()),\n",
              " ('Promo2Weeks', LabelEncoder()),\n",
              " ('Promo_fw', LabelEncoder()),\n",
              " ('Promo_bw', LabelEncoder()),\n",
              " ('StateHoliday_fw', LabelEncoder()),\n",
              " ('StateHoliday_bw', LabelEncoder()),\n",
              " ('SchoolHoliday_fw', LabelEncoder()),\n",
              " ('SchoolHoliday_bw', LabelEncoder())]"
            ]
          },
          "metadata": {},
          "execution_count": 369
        }
      ]
    },
    {
      "cell_type": "markdown",
      "metadata": {
        "id": "RwjuaMHi7Ica"
      },
      "source": [
        "Se concatenan los inputs del modelo: las variables continuas y los embeddings de las variables categóricas.\n",
        "\n",
        "Se utiliza la regularización con dropout, luego dos capas densas con función de activación ReLU, luego dropout nuevamente y finalmente una función de activación sigmoida."
      ]
    },
    {
      "cell_type": "code",
      "metadata": {
        "id": "G39B2mzoNSZg"
      },
      "source": [
        "embs = [get_emb(feat) for feat in cat_map_fit.features]\n",
        "x = merge.Concatenate()([emb for inp,emb in embs] + [contin_out])\n",
        "x = Dropout(0.02)(x)\n",
        "x = Dense(1000, activation='relu', kernel_initializer='uniform')(x)\n",
        "x = Dense(500, activation='relu', kernel_initializer='uniform')(x)\n",
        "x = Dropout(0.2)(x)\n",
        "x = Dense(1, activation='sigmoid')(x)\n",
        "\n",
        "model = Model([inp for inp,emb in embs] + [contin_inp], x)\n",
        "model.compile(optimizer = \"adam\", loss = 'mean_squared_error')\n",
        "#model.compile(optimizer = \"adam\", loss = 'mean_absolute_error')"
      ],
      "execution_count": 370,
      "outputs": []
    },
    {
      "cell_type": "code",
      "metadata": {
        "id": "SOxJUF2NcK6c"
      },
      "source": [
        "model.summary()"
      ],
      "execution_count": null,
      "outputs": []
    },
    {
      "cell_type": "markdown",
      "metadata": {
        "id": "I9mNJz7vNU6i"
      },
      "source": [
        "\n",
        "#Start training\n",
        "\n",
        "A continuación se entrena el modelo.\n",
        "\n",
        "La cantidad de muestras que se entrenan antes de que los parámetros internos del modelo se actualicen es de 128 (batch_size).\n",
        "\n",
        "El número de veces que el algoritmo de aprendizaje funciona en todo el conjunto de datos de entrenamiento es de 25 (epochs)\n"
      ]
    },
    {
      "cell_type": "code",
      "metadata": {
        "colab": {
          "base_uri": "https://localhost:8080/"
        },
        "id": "AeSCyv9JNX1q",
        "outputId": "324f8c66-bd67-4678-8f6b-ae0bb3a6cad6"
      },
      "source": [
        "callback = EarlyStopping(monitor='loss', patience=10, min_delta=0.0001)\n",
        "\n",
        "hist = model.fit(map_train, y_train, batch_size=128,callbacks=[callback], epochs = 25,\n",
        "                 verbose=1, validation_data=(map_valid, y_valid))"
      ],
      "execution_count": 448,
      "outputs": [
        {
          "output_type": "stream",
          "name": "stdout",
          "text": [
            "Epoch 1/25\n",
            "5937/5937 [==============================] - 121s 20ms/step - loss: 3.8169e-05 - val_loss: 2.4833e-04\n",
            "Epoch 2/25\n",
            "5937/5937 [==============================] - 121s 20ms/step - loss: 3.8249e-05 - val_loss: 2.5089e-04\n",
            "Epoch 3/25\n",
            "5937/5937 [==============================] - 122s 20ms/step - loss: 3.7900e-05 - val_loss: 2.4939e-04\n",
            "Epoch 4/25\n",
            "5937/5937 [==============================] - 122s 21ms/step - loss: 3.7793e-05 - val_loss: 2.4330e-04\n",
            "Epoch 5/25\n",
            "5937/5937 [==============================] - 121s 20ms/step - loss: 3.7958e-05 - val_loss: 2.4792e-04\n",
            "Epoch 6/25\n",
            "5937/5937 [==============================] - 121s 20ms/step - loss: 3.7979e-05 - val_loss: 2.4147e-04\n",
            "Epoch 7/25\n",
            "5937/5937 [==============================] - 122s 21ms/step - loss: 3.7659e-05 - val_loss: 2.4163e-04\n",
            "Epoch 8/25\n",
            "5937/5937 [==============================] - 121s 20ms/step - loss: 3.7357e-05 - val_loss: 2.5071e-04\n",
            "Epoch 9/25\n",
            "5937/5937 [==============================] - 121s 20ms/step - loss: 3.7263e-05 - val_loss: 2.5377e-04\n",
            "Epoch 10/25\n",
            "5937/5937 [==============================] - 122s 20ms/step - loss: 3.7532e-05 - val_loss: 2.4571e-04\n",
            "Epoch 11/25\n",
            "5937/5937 [==============================] - 122s 21ms/step - loss: 3.6979e-05 - val_loss: 2.4680e-04\n"
          ]
        }
      ]
    },
    {
      "cell_type": "code",
      "metadata": {
        "id": "3lKhqivVsPLP"
      },
      "source": [
        "model.save_weights('trained_weights.hdf5')"
      ],
      "execution_count": 463,
      "outputs": []
    },
    {
      "cell_type": "code",
      "metadata": {
        "id": "Bl5BHoQPNaKD",
        "colab": {
          "base_uri": "https://localhost:8080/"
        },
        "outputId": "63657270-d879-4661-df87-813d56f09f49"
      },
      "source": [
        "hist.history"
      ],
      "execution_count": 464,
      "outputs": [
        {
          "output_type": "execute_result",
          "data": {
            "text/plain": [
              "{'loss': [3.81685167667456e-05,\n",
              "  3.824948362307623e-05,\n",
              "  3.7899775634286925e-05,\n",
              "  3.779290273087099e-05,\n",
              "  3.7958481698296964e-05,\n",
              "  3.797883982770145e-05,\n",
              "  3.765897417906672e-05,\n",
              "  3.735654172487557e-05,\n",
              "  3.726290015038103e-05,\n",
              "  3.7532125134021044e-05,\n",
              "  3.697876672958955e-05],\n",
              " 'val_loss': [0.00024832526105456054,\n",
              "  0.0002508861944079399,\n",
              "  0.0002493904030416161,\n",
              "  0.00024330231826752424,\n",
              "  0.00024792327894829214,\n",
              "  0.00024147055228240788,\n",
              "  0.00024162849877029657,\n",
              "  0.00025071483105421066,\n",
              "  0.00025377035490237176,\n",
              "  0.0002457148802932352,\n",
              "  0.0002468015009071678]}"
            ]
          },
          "metadata": {},
          "execution_count": 464
        }
      ]
    },
    {
      "cell_type": "code",
      "metadata": {
        "id": "e58mk1A-NehJ",
        "colab": {
          "base_uri": "https://localhost:8080/",
          "height": 282
        },
        "outputId": "4865676e-4a39-46a6-eaab-2a124603d57e"
      },
      "source": [
        "plt.plot(hist.history['val_loss'], label=\"val_loss\")\n",
        "plt.legend()\n",
        "plt.plot(hist.history['loss'],label=\"loss\")\n",
        "plt.legend()\n"
      ],
      "execution_count": 465,
      "outputs": [
        {
          "output_type": "execute_result",
          "data": {
            "text/plain": [
              "<matplotlib.legend.Legend at 0x7f1cf00da8d0>"
            ]
          },
          "metadata": {},
          "execution_count": 465
        },
        {
          "output_type": "display_data",
          "data": {
            "image/png": "[encoded data removed]",
            "text/plain": [
              "<Figure size 432x288 with 1 Axes>"
            ]
          },
          "metadata": {
            "needs_background": "light"
          }
        }
      ]
    },
    {
      "cell_type": "code",
      "metadata": {
        "id": "8pFs-OloNj4f",
        "colab": {
          "base_uri": "https://localhost:8080/"
        },
        "outputId": "5f4b9a01-bd9d-4a5d-ecce-34bf7d6c9bfb"
      },
      "source": [
        "preds = np.squeeze(model.predict(map_valid, 1024, verbose=1))"
      ],
      "execution_count": 466,
      "outputs": [
        {
          "output_type": "stream",
          "name": "stdout",
          "text": [
            "83/83 [==============================] - 3s 30ms/step\n"
          ]
        }
      ]
    },
    {
      "cell_type": "code",
      "metadata": {
        "colab": {
          "base_uri": "https://localhost:8080/"
        },
        "id": "awuYis6NsQD5",
        "outputId": "287cb36b-f5af-4312-9457-94b225194bb8"
      },
      "source": [
        "preds_train = np.squeeze(model.predict(map_train, 1024, verbose=1))"
      ],
      "execution_count": 467,
      "outputs": [
        {
          "output_type": "stream",
          "name": "stdout",
          "text": [
            "743/743 [==============================] - 22s 30ms/step\n"
          ]
        }
      ]
    },
    {
      "cell_type": "code",
      "metadata": {
        "id": "Me4KLyciNm32"
      },
      "source": [
        "def log_max_inv(preds, mx = max_log_y):\n",
        "    return np.exp(preds * mx)\n"
      ],
      "execution_count": 468,
      "outputs": []
    },
    {
      "cell_type": "code",
      "metadata": {
        "id": "JqYcXR_FNrKy",
        "colab": {
          "base_uri": "https://localhost:8080/"
        },
        "outputId": "0825a0f9-86b6-4a03-8497-41bff7b8d1e0"
      },
      "source": [
        "print(log_max_inv(preds, max_log_y)[0])\n",
        "print(log_max_inv(y_valid, max_log_y)[0])\n",
        "print(math.sqrt(np.square(((log_max_inv(preds, max_log_y)[0] - log_max_inv(y_valid, max_log_y)[0])/log_max_inv(y_valid, max_log_y)[0]).mean())))"
      ],
      "execution_count": 469,
      "outputs": [
        {
          "output_type": "stream",
          "name": "stdout",
          "text": [
            "7186.6206\n",
            "7955.999999999996\n",
            "0.09670429795515921\n"
          ]
        }
      ]
    },
    {
      "cell_type": "code",
      "metadata": {
        "id": "fUPebGu5Ntcf"
      },
      "source": [
        "preds_log_max_inv = log_max_inv(preds, max_log_y)\n",
        "preds_log_max_inv_train = log_max_inv(preds_train, max_log_y)\n",
        "#print(preds_log_max_inv)"
      ],
      "execution_count": 470,
      "outputs": []
    },
    {
      "cell_type": "code",
      "metadata": {
        "id": "UzQWXMk8Nwb8"
      },
      "source": [
        "y_valid_array =  log_max_inv(np.array(y_valid), max_log_y)\n",
        "#print(y_valid_array)\n",
        "y_train_array =  log_max_inv(np.array(y_train), max_log_y)"
      ],
      "execution_count": 471,
      "outputs": []
    },
    {
      "cell_type": "code",
      "metadata": {
        "id": "AmuqJWCDNyhm",
        "colab": {
          "base_uri": "https://localhost:8080/"
        },
        "outputId": "5a89bba4-3836-40e6-ae54-3424e94cf9c3"
      },
      "source": [
        "print(\"MRSE de valid: \" + str(sqrt(mean(square((preds_log_max_inv - y_valid_array)/y_valid_array)))))\n",
        "print(\"MRSE de train: \" + str(sqrt(mean(square((preds_log_max_inv_train - y_train_array)/y_train_array)))))"
      ],
      "execution_count": 472,
      "outputs": [
        {
          "output_type": "stream",
          "name": "stdout",
          "text": [
            "MRSE de valid: 0.23183630245868458\n",
            "MRSE de train: 0.05875014869501682\n"
          ]
        }
      ]
    },
    {
      "cell_type": "markdown",
      "metadata": {
        "id": "DD4Toa8nTuAR"
      },
      "source": [
        "Se puede observar la presencia de overfitting lo cual podría mejorarse mediante técnicas de regularización y así obtener un mejor resultado del modelo."
      ]
    },
    {
      "cell_type": "code",
      "metadata": {
        "id": "8R7DK21UWxwD",
        "colab": {
          "base_uri": "https://localhost:8080/"
        },
        "outputId": "77711aa9-38a0-4b5a-fa51-13c12f00f0f8"
      },
      "source": [
        "pred_test = np.squeeze(model.predict(map_test, 1024, verbose=1))"
      ],
      "execution_count": 473,
      "outputs": [
        {
          "output_type": "stream",
          "name": "stdout",
          "text": [
            "41/41 [==============================] - 1s 30ms/step\n"
          ]
        }
      ]
    },
    {
      "cell_type": "code",
      "metadata": {
        "id": "rvN-yf80ndf0"
      },
      "source": [
        "predicciones = log_max_inv(pred_test, max_log_y)\n"
      ],
      "execution_count": 474,
      "outputs": []
    },
    {
      "cell_type": "code",
      "metadata": {
        "id": "3h5C1SMsoGbm",
        "colab": {
          "base_uri": "https://localhost:8080/",
          "height": 450
        },
        "outputId": "b833225e-64c6-497b-89fd-8e0f5146fcc2"
      },
      "source": [
        "test_final = pd.DataFrame(data=predicciones, columns=[\"Sales\"],)\n",
        "test_final.index.names = [\"Id\"]\n",
        "test_final.index = test_final.index + 1\n",
        "test_final"
      ],
      "execution_count": 475,
      "outputs": [
        {
          "output_type": "execute_result",
          "data": {
            "text/html": [
              "<div>\n",
              "<style scoped>\n",
              "    .dataframe tbody tr th:only-of-type {\n",
              "        vertical-align: middle;\n",
              "    }\n",
              "\n",
              "    .dataframe tbody tr th {\n",
              "        vertical-align: top;\n",
              "    }\n",
              "\n",
              "    .dataframe thead th {\n",
              "        text-align: right;\n",
              "    }\n",
              "</style>\n",
              "<table border=\"1\" class=\"dataframe\">\n",
              "  <thead>\n",
              "    <tr style=\"text-align: right;\">\n",
              "      <th></th>\n",
              "      <th>Sales</th>\n",
              "    </tr>\n",
              "    <tr>\n",
              "      <th>Id</th>\n",
              "      <th></th>\n",
              "    </tr>\n",
              "  </thead>\n",
              "  <tbody>\n",
              "    <tr>\n",
              "      <th>1</th>\n",
              "      <td>5257.076660</td>\n",
              "    </tr>\n",
              "    <tr>\n",
              "      <th>2</th>\n",
              "      <td>5564.177734</td>\n",
              "    </tr>\n",
              "    <tr>\n",
              "      <th>3</th>\n",
              "      <td>8262.099609</td>\n",
              "    </tr>\n",
              "    <tr>\n",
              "      <th>4</th>\n",
              "      <td>9461.546875</td>\n",
              "    </tr>\n",
              "    <tr>\n",
              "      <th>5</th>\n",
              "      <td>4744.252930</td>\n",
              "    </tr>\n",
              "    <tr>\n",
              "      <th>...</th>\n",
              "      <td>...</td>\n",
              "    </tr>\n",
              "    <tr>\n",
              "      <th>41084</th>\n",
              "      <td>3201.286865</td>\n",
              "    </tr>\n",
              "    <tr>\n",
              "      <th>41085</th>\n",
              "      <td>9001.876953</td>\n",
              "    </tr>\n",
              "    <tr>\n",
              "      <th>41086</th>\n",
              "      <td>7839.365723</td>\n",
              "    </tr>\n",
              "    <tr>\n",
              "      <th>41087</th>\n",
              "      <td>4502.202637</td>\n",
              "    </tr>\n",
              "    <tr>\n",
              "      <th>41088</th>\n",
              "      <td>7163.881348</td>\n",
              "    </tr>\n",
              "  </tbody>\n",
              "</table>\n",
              "<p>41088 rows × 1 columns</p>\n",
              "</div>"
            ],
            "text/plain": [
              "             Sales\n",
              "Id                \n",
              "1      5257.076660\n",
              "2      5564.177734\n",
              "3      8262.099609\n",
              "4      9461.546875\n",
              "5      4744.252930\n",
              "...            ...\n",
              "41084  3201.286865\n",
              "41085  9001.876953\n",
              "41086  7839.365723\n",
              "41087  4502.202637\n",
              "41088  7163.881348\n",
              "\n",
              "[41088 rows x 1 columns]"
            ]
          },
          "metadata": {},
          "execution_count": 475
        }
      ]
    },
    {
      "cell_type": "code",
      "metadata": {
        "id": "QuxSnghvpLLX"
      },
      "source": [
        "test_final.to_csv('submission.csv')"
      ],
      "execution_count": 476,
      "outputs": []
    }
  ]
}